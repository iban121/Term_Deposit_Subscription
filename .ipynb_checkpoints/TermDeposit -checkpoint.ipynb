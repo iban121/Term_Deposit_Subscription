{
 "cells": [
  {
   "cell_type": "markdown",
   "id": "2d8edcac",
   "metadata": {},
   "source": [
    "# Background\n",
    "\n",
    "The data comes from direct marketing efforts of a European banking institution. The marketing campaign involves making a phone call to a customer, often multiple times to ensure a product subscription, in this case a term deposit. Term deposits are usually short-term deposits with maturities ranging from one month to a few years. The customer must understand when buying a term deposit that they can withdraw their funds only after the term ends. All customer information that might reveal personal information is removed due to privacy concerns.\n",
    "\n",
    "#### Goal(s):\n",
    "\n",
    "Predict if the customer will subscribe (yes/no) to a term deposit (variable y)\n",
    "Success Metric(s):\n",
    "Hit %81 or above accuracy by evaluating with 5-fold cross validation and reporting the average performance score.\n",
    "Bonus(es):\n",
    "Determine which customers are more likely to be interested in investment products. What makes the customers buy? Tell us which feature we should be focusing more on.\n",
    "\n",
    "# Imports"
   ]
  },
  {
   "cell_type": "code",
   "execution_count": 1,
   "id": "3bdf6052",
   "metadata": {},
   "outputs": [
    {
     "data": {
      "text/html": [
       "        <script type=\"text/javascript\">\n",
       "        window.PlotlyConfig = {MathJaxConfig: 'local'};\n",
       "        if (window.MathJax && window.MathJax.Hub && window.MathJax.Hub.Config) {window.MathJax.Hub.Config({SVG: {font: \"STIX-Web\"}});}\n",
       "        if (typeof require !== 'undefined') {\n",
       "        require.undef(\"plotly\");\n",
       "        requirejs.config({\n",
       "            paths: {\n",
       "                'plotly': ['https://cdn.plot.ly/plotly-2.12.1.min']\n",
       "            }\n",
       "        });\n",
       "        require(['plotly'], function(Plotly) {\n",
       "            window._Plotly = Plotly;\n",
       "        });\n",
       "        }\n",
       "        </script>\n",
       "        "
      ]
     },
     "metadata": {},
     "output_type": "display_data"
    },
    {
     "data": {
      "text/html": [
       "        <script type=\"text/javascript\">\n",
       "        window.PlotlyConfig = {MathJaxConfig: 'local'};\n",
       "        if (window.MathJax && window.MathJax.Hub && window.MathJax.Hub.Config) {window.MathJax.Hub.Config({SVG: {font: \"STIX-Web\"}});}\n",
       "        if (typeof require !== 'undefined') {\n",
       "        require.undef(\"plotly\");\n",
       "        requirejs.config({\n",
       "            paths: {\n",
       "                'plotly': ['https://cdn.plot.ly/plotly-2.12.1.min']\n",
       "            }\n",
       "        });\n",
       "        require(['plotly'], function(Plotly) {\n",
       "            window._Plotly = Plotly;\n",
       "        });\n",
       "        }\n",
       "        </script>\n",
       "        "
      ]
     },
     "metadata": {},
     "output_type": "display_data"
    },
    {
     "name": "stderr",
     "output_type": "stream",
     "text": [
      "C:\\Users\\ibane\\anaconda3\\lib\\site-packages\\sklearn\\experimental\\enable_hist_gradient_boosting.py:16: UserWarning:\n",
      "\n",
      "Since version 1.0, it is not needed to import enable_hist_gradient_boosting anymore. HistGradientBoostingClassifier and HistGradientBoostingRegressor are now stable and can be normally imported from sklearn.ensemble.\n",
      "\n"
     ]
    },
    {
     "ename": "ModuleNotFoundError",
     "evalue": "No module named 'xgboost'",
     "output_type": "error",
     "traceback": [
      "\u001b[1;31m---------------------------------------------------------------------------\u001b[0m",
      "\u001b[1;31mModuleNotFoundError\u001b[0m                       Traceback (most recent call last)",
      "\u001b[1;32m~\\AppData\\Local\\Temp\\ipykernel_6720\\4119615497.py\u001b[0m in \u001b[0;36m<module>\u001b[1;34m\u001b[0m\n\u001b[0;32m     24\u001b[0m \u001b[1;32mfrom\u001b[0m \u001b[0msklearn\u001b[0m\u001b[1;33m.\u001b[0m\u001b[0mtree\u001b[0m \u001b[1;32mimport\u001b[0m \u001b[0mDecisionTreeClassifier\u001b[0m\u001b[1;33m\u001b[0m\u001b[1;33m\u001b[0m\u001b[0m\n\u001b[0;32m     25\u001b[0m \u001b[1;32mfrom\u001b[0m \u001b[0msklearn\u001b[0m\u001b[1;33m.\u001b[0m\u001b[0mensemble\u001b[0m \u001b[1;32mimport\u001b[0m \u001b[0mRandomForestClassifier\u001b[0m\u001b[1;33m,\u001b[0m \u001b[0mAdaBoostClassifier\u001b[0m\u001b[1;33m,\u001b[0m \u001b[0mGradientBoostingClassifier\u001b[0m\u001b[1;33m,\u001b[0m \u001b[0mHistGradientBoostingClassifier\u001b[0m\u001b[1;33m\u001b[0m\u001b[1;33m\u001b[0m\u001b[0m\n\u001b[1;32m---> 26\u001b[1;33m \u001b[1;32mfrom\u001b[0m \u001b[0mxgboost\u001b[0m \u001b[1;32mimport\u001b[0m \u001b[0mXGBClassifier\u001b[0m\u001b[1;33m\u001b[0m\u001b[1;33m\u001b[0m\u001b[0m\n\u001b[0m\u001b[0;32m     27\u001b[0m \u001b[1;32mfrom\u001b[0m \u001b[0mlightgbm\u001b[0m \u001b[1;32mimport\u001b[0m \u001b[0mLGBMClassifier\u001b[0m\u001b[1;33m\u001b[0m\u001b[1;33m\u001b[0m\u001b[0m\n\u001b[0;32m     28\u001b[0m \u001b[1;32mfrom\u001b[0m \u001b[0mcatboost\u001b[0m \u001b[1;32mimport\u001b[0m \u001b[0mCatBoostClassifier\u001b[0m\u001b[1;33m\u001b[0m\u001b[1;33m\u001b[0m\u001b[0m\n",
      "\u001b[1;31mModuleNotFoundError\u001b[0m: No module named 'xgboost'"
     ]
    }
   ],
   "source": [
    "import pandas as pd\n",
    "import numpy as np\n",
    "import seaborn as sns\n",
    "import matplotlib.pyplot as plt\n",
    "%matplotlib inline\n",
    "\n",
    "import chart_studio.plotly as py\n",
    "from plotly.offline import download_plotlyjs, init_notebook_mode,plot,iplot\n",
    "init_notebook_mode(connected=True)\n",
    "import cufflinks as cf\n",
    "cf.go_offline()\n",
    "import plotly.express as px\n",
    "import plotly.graph_objs as go\n",
    "from statsmodels.graphics.mosaicplot import mosaic\n",
    "from itertools import product\n",
    "\n",
    "from sklearn.preprocessing import LabelEncoder\n",
    "from sklearn.model_selection import train_test_split, GridSearchCV, cross_validate\n",
    "from sklearn.metrics import confusion_matrix, classification_report, matthews_corrcoef, roc_auc_score, roc_curve, auc, f1_score, recall_score, precision_score, accuracy_score\n",
    "\n",
    "\n",
    "from sklearn.experimental import enable_hist_gradient_boosting\n",
    "from sklearn.neighbors import KNeighborsClassifier\n",
    "from sklearn.tree import DecisionTreeClassifier\n",
    "from sklearn.ensemble import RandomForestClassifier, AdaBoostClassifier, GradientBoostingClassifier, HistGradientBoostingClassifier\n",
    "from xgboost import XGBClassifier\n",
    "from lightgbm import LGBMClassifier\n",
    "from catboost import CatBoostClassifier\n",
    "\n",
    "from sklearn.decomposition import PCA\n",
    "from sklearn.cluster import KMeans\n",
    "from sklearn.metrics import silhouette_score, calinski_harabasz_score, davies_bouldin_score"
   ]
  },
  {
   "cell_type": "markdown",
   "id": "30450336",
   "metadata": {},
   "source": [
    "# Data"
   ]
  },
  {
   "cell_type": "code",
   "execution_count": null,
   "id": "fcedf6b1",
   "metadata": {},
   "outputs": [],
   "source": [
    "data = pd.read_csv(\"term-deposit-marketing-2020.csv\")"
   ]
  },
  {
   "cell_type": "code",
   "execution_count": null,
   "id": "6dedf180",
   "metadata": {},
   "outputs": [],
   "source": [
    "data.head()"
   ]
  },
  {
   "cell_type": "code",
   "execution_count": null,
   "id": "0bcbbb6f",
   "metadata": {},
   "outputs": [],
   "source": [
    "data.info()"
   ]
  },
  {
   "cell_type": "markdown",
   "id": "e1c077dc",
   "metadata": {},
   "source": [
    "##### Target Variable\n",
    "\n",
    "y - has the client subscribed to a term deposit? (binary)"
   ]
  },
  {
   "cell_type": "code",
   "execution_count": null,
   "id": "a2a0a860",
   "metadata": {},
   "outputs": [],
   "source": [
    "data.describe()"
   ]
  },
  {
   "cell_type": "markdown",
   "id": "1a8604dd",
   "metadata": {},
   "source": [
    "The months are easy to turn into numerical values, so let's go ahead and change the data types. "
   ]
  },
  {
   "cell_type": "code",
   "execution_count": null,
   "id": "bf2ef75b",
   "metadata": {},
   "outputs": [],
   "source": [
    "data.month.unique()"
   ]
  },
  {
   "cell_type": "code",
   "execution_count": null,
   "id": "39dcdd56",
   "metadata": {},
   "outputs": [],
   "source": [
    "months_dict = {'jan': 1, 'feb': 2, 'mar' : 3,\n",
    "              'apr': 4, 'may': 5, 'jun': 6,\n",
    "              'jul': 7, 'aug': 8, 'sep': 9, \n",
    "              'oct': 10, 'nov': 11, 'dec': 12}"
   ]
  },
  {
   "cell_type": "code",
   "execution_count": null,
   "id": "4698a039",
   "metadata": {},
   "outputs": [],
   "source": [
    "data.replace({'month': months_dict}, inplace=True)"
   ]
  },
  {
   "cell_type": "code",
   "execution_count": null,
   "id": "c8494f1d",
   "metadata": {},
   "outputs": [],
   "source": [
    "data.info()"
   ]
  },
  {
   "cell_type": "code",
   "execution_count": null,
   "id": "295906ac",
   "metadata": {},
   "outputs": [],
   "source": [
    "data.describe()"
   ]
  },
  {
   "cell_type": "markdown",
   "id": "3910ce77",
   "metadata": {},
   "source": [
    "#### Missing Data"
   ]
  },
  {
   "cell_type": "code",
   "execution_count": null,
   "id": "4f593a77",
   "metadata": {},
   "outputs": [],
   "source": [
    "data.isnull().sum()"
   ]
  },
  {
   "cell_type": "code",
   "execution_count": null,
   "id": "902aedfe",
   "metadata": {},
   "outputs": [],
   "source": [
    "data.head()"
   ]
  },
  {
   "cell_type": "code",
   "execution_count": null,
   "id": "7ea44c68",
   "metadata": {},
   "outputs": [],
   "source": [
    "data = data.sample(frac=1)\n",
    "data.head()"
   ]
  },
  {
   "cell_type": "markdown",
   "id": "1620f193",
   "metadata": {},
   "source": [
    "# EDA\n",
    "\n",
    "### Distribution of Data"
   ]
  },
  {
   "cell_type": "code",
   "execution_count": null,
   "id": "1c6ce493",
   "metadata": {},
   "outputs": [],
   "source": [
    "ax = data.groupby('y').count().plot(kind='bar')\n",
    "plt.show();"
   ]
  },
  {
   "cell_type": "markdown",
   "id": "104df7b3",
   "metadata": {},
   "source": [
    "We can see the dataset is clearly unbalanced. Let's have a look at the distribution of the two different classes. "
   ]
  },
  {
   "cell_type": "code",
   "execution_count": null,
   "id": "49717869",
   "metadata": {},
   "outputs": [],
   "source": [
    "print('Percentage of clients not subscribed: ', (len(data[data['y'] == 'no'])/len(data)*100 ))\n",
    "print('Percentage of clients subscribed: ', (len(data[data['y'] == 'yes'])/len(data)*100 ))"
   ]
  },
  {
   "cell_type": "code",
   "execution_count": null,
   "id": "dac3e07e",
   "metadata": {},
   "outputs": [],
   "source": [
    "sns.pairplot(data, diag_kind = 'kde')\n",
    "plt.show();"
   ]
  },
  {
   "cell_type": "code",
   "execution_count": null,
   "id": "404e4b2b",
   "metadata": {},
   "outputs": [],
   "source": [
    "data.skew()"
   ]
  },
  {
   "cell_type": "markdown",
   "id": "97059408",
   "metadata": {},
   "source": [
    "## Customer Profiling\n",
    "Some of the features in the dataset can be used to categorise cusotmers: age, jobs, martial status, and education\n",
    "\n",
    "### Age of customer\n",
    "\n",
    "Type of Data: Numeric (integers)\n"
   ]
  },
  {
   "cell_type": "code",
   "execution_count": null,
   "id": "394df4a4",
   "metadata": {},
   "outputs": [],
   "source": [
    "fig, ax = plt.subplots(figsize = (12, 6))\n",
    "sns.kdeplot(data[data['y']=='yes']['age'], color = 'orange', ax = ax, label = 'yes')\n",
    "sns.kdeplot(data[data['y']=='no']['age'], ax = ax, label = 'no')\n",
    "plt.axvline(np.mean((data[data['y']=='yes']['age'])), c = 'orange')\n",
    "plt.axvline(np.mean((data[data['y']=='no']['age'])), c = 'blue')\n",
    "ax.legend()\n",
    "plt.show();"
   ]
  },
  {
   "cell_type": "code",
   "execution_count": null,
   "id": "d6448e55",
   "metadata": {},
   "outputs": [],
   "source": [
    "fig, axes = plt.subplots(nrows=2, ncols = 1, figsize = (15,5))\n",
    "pd.crosstab(data['age'], data['y']).plot(kind='bar', stacked=True, rot=0, ax = axes[0], \n",
    "                                         title = 'Distribution of Clients by Age')\n",
    "data.groupby('age')['y'].value_counts(normalize = True).unstack('y').plot.bar(stacked=True, ax = axes[1], rot = 0,\n",
    "                                                                             title = 'Normalised Distribution of subscriptions by age')\n",
    "plt.subplots_adjust(wspace=0.6, hspace=0.6)\n",
    "plt.show();"
   ]
  },
  {
   "cell_type": "code",
   "execution_count": null,
   "id": "6e8d3edc",
   "metadata": {},
   "outputs": [],
   "source": [
    "print('No. of clients aged 62: ', data[data['age']==62].size)\n",
    "print('No of 62 year old clients who subscribed: ',data.query('age==62 & y == \"yes\"').size)\n",
    "126/210*100"
   ]
  },
  {
   "cell_type": "code",
   "execution_count": null,
   "id": "b790ed35",
   "metadata": {},
   "outputs": [],
   "source": [
    "print('No. of clients aged 65: ', data[data['age']==65].size)\n",
    "print('No of 65 year old clients who subscribed: ',data.query('age==65 & y == \"yes\"').size)\n",
    "126/224*100"
   ]
  },
  {
   "cell_type": "code",
   "execution_count": null,
   "id": "7b43ffff",
   "metadata": {},
   "outputs": [],
   "source": [
    "print('No. of clients aged 73: ', data[data['age']==73].size)\n",
    "print('No of 73 year old clients who subscribed: ',data.query('age==73 & y == \"yes\"').size)\n",
    "84/112*100"
   ]
  },
  {
   "cell_type": "code",
   "execution_count": null,
   "id": "c1e9d621",
   "metadata": {},
   "outputs": [],
   "source": [
    "print('No. of clients aged 85: ', data[data['age']==85].size)\n",
    "print('No of 85 year old clients who subscribed: ',data.query('age==85 & y == \"yes\"').size)\n",
    "42/42*100"
   ]
  },
  {
   "cell_type": "code",
   "execution_count": null,
   "id": "0904cdd3",
   "metadata": {},
   "outputs": [],
   "source": [
    "print('No. of clients aged 90: ', data[data['age']==90].size)\n",
    "print('No of 90 year old clients who subscribed: ',data.query('age==90 & y == \"yes\"').size)\n",
    "14/14*100"
   ]
  },
  {
   "cell_type": "code",
   "execution_count": null,
   "id": "fd682fac",
   "metadata": {},
   "outputs": [],
   "source": [
    "print('No. of clients aged 95: ', data[data['age']==95].size)\n",
    "print('No of 95 year old clients who subscribed: ',data.query('age==95 & y == \"yes\"').size)\n",
    "95/95*100"
   ]
  },
  {
   "cell_type": "code",
   "execution_count": null,
   "id": "f4252946",
   "metadata": {},
   "outputs": [],
   "source": [
    "print('No. of clients aged 80: ', data[data['age']==80].size)\n",
    "print('No of 80 year old clients who subscribed: ',data.query('age==80 & y == \"yes\"').size)"
   ]
  },
  {
   "cell_type": "code",
   "execution_count": null,
   "id": "597f88fa",
   "metadata": {},
   "outputs": [],
   "source": [
    "print('No. of clients aged 81: ', data[data['age']==81].size)\n",
    "print('No of 81 year old clients who subscribed: ',data.query('age==81 & y == \"yes\"').size)"
   ]
  },
  {
   "cell_type": "code",
   "execution_count": null,
   "id": "00cebc11",
   "metadata": {},
   "outputs": [],
   "source": [
    "print('No. of clients aged 82: ', data[data['age']==82].size)\n",
    "print('No of 82 year old clients who subscribed: ',data.query('age==82 & y == \"yes\"').size)"
   ]
  },
  {
   "cell_type": "code",
   "execution_count": null,
   "id": "95f628ce",
   "metadata": {},
   "outputs": [],
   "source": [
    "print('No. of clients aged 86: ', data[data['age']==86].size)\n",
    "print('No of 86 year old clients who subscribed: ',data.query('age==86 & y == \"yes\"').size)"
   ]
  },
  {
   "cell_type": "code",
   "execution_count": null,
   "id": "92ad808e",
   "metadata": {},
   "outputs": [],
   "source": [
    "print('No. of clients aged 94: ', data[data['age']==94].size)\n",
    "print('No of 94 year old clients who subscribed: ',data.query('age==94 & y == \"yes\"').size)"
   ]
  },
  {
   "cell_type": "markdown",
   "id": "e787b9a6",
   "metadata": {},
   "source": [
    "There's some clear age groups where there is a higher percentage of clients who sign up for term deposits. It's worth noting that custimers aged 90 and 95 have exactly the same number of people, all of whom have subscribed for term deposits. This could possible be spurious or a mere coincidence. For now, there's not sufficient information to suggest these groups out outliers and so I'll leave them in the dataset. \n",
    "\n",
    "It's also interesting to note that the dataset has a higher proportion of clients aged between 26 to 60, but the percertage of clients who sign up for term deposits is higher for clients who are older. \n",
    "\n",
    "Age groups worth exploring further are 80-82 inclusive, 86 and 94 as these groups exclusively have customers who didn't subscribe for term deposits"
   ]
  },
  {
   "cell_type": "code",
   "execution_count": null,
   "id": "79d46a03",
   "metadata": {},
   "outputs": [],
   "source": [
    "print('Age of youngest customer: ', data['age'].min())\n",
    "print('Age of oldest customer: ',data['age'].max())\n",
    "print('\\n')\n",
    "print('Age by quartile: \\n', data['age'].quantile([0.25, 0.5, 0.75]));"
   ]
  },
  {
   "cell_type": "code",
   "execution_count": null,
   "id": "3d4ecd12",
   "metadata": {},
   "outputs": [],
   "source": [
    "print('Age of youngest customer (Yes): ', data[data['y']=='yes']['age'].min())\n",
    "print('Age of oldest customer (Yes): ',data[data['y']=='yes']['age'].max())\n",
    "print('\\n')\n",
    "print('Age by quartile (yes): \\n', data[data['y']=='yes']['age'].quantile([0.25, 0.5, 0.75]))\n",
    "print('Age of youngest customer (No): ', data[data['y']=='no']['age'].min())\n",
    "print('Age of oldest customer (No): ',data[data['y']=='no']['age'].max())\n",
    "print('\\n')\n",
    "print('Age by quartile: ', data[data['y']=='no']['age'].quantile([0.25, 0.5, 0.75]))\n",
    "fig, axes = plt.subplots(3, 1, sharex = True, figsize=(15,6))\n",
    "fig.suptitle('Boxplots of distribution of Age of clients')\n",
    "sns.boxplot(ax = axes[0],x='age', data = data, color= 'green')\n",
    "axes[0].set_title('Everyone')\n",
    "sns.boxplot(ax = axes[1],x='age', data = data[data['y']=='no'])\n",
    "axes[1].set_title('No')\n",
    "sns.boxplot(ax = axes[2], x='age', data = data[data['y']=='yes'], color = 'orange')\n",
    "axes[2].set_title('Yes')\n",
    "plt.subplots_adjust(wspace=0.6, hspace=0.6)\n",
    "plt.show();"
   ]
  },
  {
   "cell_type": "markdown",
   "id": "da6339a9",
   "metadata": {},
   "source": [
    "The distribution of the agegroups of clients in the whole dataset is roughly comparable between those clients who did and didn't subscribe of term deposits. The median is slightly lower for those who with term deposit subscriptions when comared to those clients who didn't register for subscriptions: 37 compared to 39. "
   ]
  },
  {
   "cell_type": "markdown",
   "id": "b872b26b",
   "metadata": {},
   "source": [
    "### Jobs\n",
    "\n",
    "Type of Data: Categorical"
   ]
  },
  {
   "cell_type": "code",
   "execution_count": null,
   "id": "733f330e",
   "metadata": {},
   "outputs": [],
   "source": [
    "data['job'].unique()"
   ]
  },
  {
   "cell_type": "code",
   "execution_count": null,
   "id": "4ec96198",
   "metadata": {},
   "outputs": [],
   "source": [
    "fig, axes = plt.subplots(nrows=1, ncols = 2, figsize = (12,6))\n",
    "pd.crosstab(data['job'], data['y']).plot(kind='bar', stacked=True, ax=axes[0], rot=45)\n",
    "data.groupby('job')['y'].value_counts(normalize = True).unstack('y').plot.bar(stacked=True, ax = axes[1], rot = 45,\n",
    "                                                                             title = 'Normalised Distribution of subscriptions by Jobs')\n",
    "plt.show();"
   ]
  },
  {
   "cell_type": "code",
   "execution_count": null,
   "id": "3c732c33",
   "metadata": {},
   "outputs": [],
   "source": [
    "print(\"Count of Clients by Jobs who subscribed for term deposits: \\n\",\n",
    "      (data[data['y']=='yes']['job'].value_counts()/len(data[data['y']=='yes']['job']))*100)\n",
    "print('\\n')\n",
    "print(\"Count of Clients by Jobs who didn't subscribe for term deposits: \\n\",\n",
    "      (data[data['y']=='no']['job'].value_counts()/len(data[data['y']=='no']['job']))*100)\n",
    "fig, axes = plt.subplots(1, 2, sharex = True, figsize = (15,5))\n",
    "((data[data['y']=='yes']['job'].value_counts()/len(data[data['y']=='yes']['job']))*100).plot(ax=axes[0],kind='barh', color = 'orange', \n",
    "                                                                                             title = 'Clients who signed up' )\n",
    "((data[data['y']=='no']['job'].value_counts()/len(data[data['y']=='no']['job']))*100).plot(kind='barh', ax= axes[1], \n",
    "                                                                                          title = 'Clients who did not sign up')\n",
    "plt.show();"
   ]
  },
  {
   "cell_type": "code",
   "execution_count": null,
   "id": "710ef6e3",
   "metadata": {},
   "outputs": [],
   "source": [
    "plt.figure(figsize=(15,10))\n",
    "sns.boxenplot(x='age', y='job', data = data, hue = 'y')\n",
    "plt.xticks(rotation = 45)\n",
    "plt.title('Distribution of Clients in Different Jobs by Age')\n",
    "plt.show();"
   ]
  },
  {
   "cell_type": "markdown",
   "id": "28132dec",
   "metadata": {},
   "source": [
    "When we group the clients by their jobs and the different ages they fall into we see roughly each profession, students, the unemployed, and those whose employment information is recorded as unknown have very similar distributions. The exceptions are the retired clients where we see the orange boxplot are at a much higher agegroup compared to the blue boxplot. This roughly supports what we saw earlier about the percentage of clients who subscribed for term deposits were of an older agegroup. "
   ]
  },
  {
   "cell_type": "markdown",
   "id": "a20d6923",
   "metadata": {},
   "source": [
    "### Marital\n",
    "\n",
    "Type of Data: Categorical"
   ]
  },
  {
   "cell_type": "code",
   "execution_count": null,
   "id": "d0c4cd28",
   "metadata": {},
   "outputs": [],
   "source": [
    "fig, axes = plt.subplots(nrows=1, ncols = 2, figsize = (12,6))\n",
    "pd.crosstab(data['marital'], data['y']).plot(kind='bar', stacked=True, rot=0, ax=axes[0])\n",
    "data.groupby('marital')['y'].value_counts(normalize = True).unstack('y').plot.bar(stacked=True, ax = axes[1], rot = 45,\n",
    "                                                                             title = 'Normalised Distribution of subscriptions by Marital Status')\n",
    "plt.show();\n"
   ]
  },
  {
   "cell_type": "code",
   "execution_count": null,
   "id": "095aad04",
   "metadata": {},
   "outputs": [],
   "source": [
    "print(\"Count of Clients by Marital Status who subscribed for term deposits: \\n\",\n",
    "      (data[data['y']=='yes']['marital'].value_counts()/len(data[data['y']=='yes']['marital']))*100)\n",
    "print('\\n')\n",
    "print(\"Count of Clients by Marital Status who didn't subscribe for term deposits: \\n\",\n",
    "      (data[data['y']=='no']['marital'].value_counts()/len(data[data['y']=='no']['marital']))*100)\n",
    "      \n",
    "\n",
    "fig, axes = plt.subplots(1, 2, sharex = True, figsize = (15,5))\n",
    "((data[data['y']=='yes']['marital'].value_counts()/len(data[data['y']=='yes']['marital']))*100).plot(ax = axes[0], kind='barh',\n",
    "                                                                                                     color = 'orange',\n",
    "                                                                                                     title = 'Clients who signed up')\n",
    "\n",
    "\n",
    "((data[data['y']=='no']['marital'].value_counts()/len(data[data['y']=='no']['marital']))*100).plot(ax = axes[1], kind='barh', \n",
    "                                                                                                   title = 'Clients who did not sign up')\n",
    "plt.show();"
   ]
  },
  {
   "cell_type": "code",
   "execution_count": null,
   "id": "93653607",
   "metadata": {},
   "outputs": [],
   "source": [
    "plt.figure(figsize=(8,8))\n",
    "sns.boxenplot(x='age', y='marital', data = data, hue = 'y')\n",
    "plt.xticks(rotation = 45)\n",
    "plt.title('Distribution of Clients by Age for different Marital Statuses')\n",
    "plt.show();"
   ]
  },
  {
   "cell_type": "code",
   "execution_count": null,
   "id": "010bf77a",
   "metadata": {},
   "outputs": [],
   "source": [
    "married = data[data['marital']== 'married']\n",
    "single = data[data['marital']== 'single']\n",
    "divorced = data[data['marital']== 'divorced']"
   ]
  },
  {
   "cell_type": "code",
   "execution_count": null,
   "id": "9dfa3911",
   "metadata": {},
   "outputs": [],
   "source": []
  },
  {
   "cell_type": "code",
   "execution_count": null,
   "id": "bd9f78e1",
   "metadata": {},
   "outputs": [],
   "source": [
    "fig, axes = plt.subplots(1, 3, sharex = True, sharey = True, figsize = (12,8))\n",
    "\n",
    "(married.groupby('y')['job'].value_counts()/len(married)*100).plot(kind='barh', ax=axes[0],\n",
    "                                                                            title = 'Married')\n",
    "\n",
    "(single.groupby('y')['job'].value_counts()/len(single)*100).plot(kind='barh', ax = axes[1], \n",
    "                                                                      title = 'Single')\n",
    "\n",
    "(divorced.groupby('y')['job'].value_counts()/len(divorced)*100).plot(kind='barh', ax = axes[2], \n",
    "                                                                      title = 'Divorced')\n",
    "plt.show();\n"
   ]
  },
  {
   "cell_type": "markdown",
   "id": "ddd6cf4d",
   "metadata": {},
   "source": [
    "### Education\n",
    "\n",
    "Tye of Data: Categorical"
   ]
  },
  {
   "cell_type": "code",
   "execution_count": null,
   "id": "77baa037",
   "metadata": {},
   "outputs": [],
   "source": [
    "fig, axes = plt.subplots(nrows=1, ncols = 2, figsize = (12,6))\n",
    "pd.crosstab(data['education'], data['y']).plot(ax = axes[0],kind='bar', stacked=True, rot=0)\n",
    "data.groupby('education')['y'].value_counts(normalize = True).unstack('y').plot.bar(stacked=True, ax = axes[1], rot = 45,\n",
    "                                                                             title = 'Normalised Distribution of subscriptions by Education')\n",
    "\n",
    "plt.show();"
   ]
  },
  {
   "cell_type": "markdown",
   "id": "71c4f5bc",
   "metadata": {},
   "source": [
    "It looks like those with tertiary education backgrounds seem to have a higher proportion of subscriptions. "
   ]
  },
  {
   "cell_type": "code",
   "execution_count": null,
   "id": "4a6402ae",
   "metadata": {},
   "outputs": [],
   "source": [
    "print(\"Count of Clients by Education background who subscribed for term deposits: \\n\",\n",
    "      (data[data['y']=='yes']['education'].value_counts()/len(data[data['y']=='yes']['education']))*100)\n",
    "print('\\n')\n",
    "print(\"Count of Clients by Education background who didn't subscribe for term deposits: \\n\",\n",
    "      (data[data['y']=='no']['education'].value_counts()/len(data[data['y']=='no']['education']))*100)\n",
    "      \n",
    "\n",
    "fig, axes = plt.subplots(1, 2, sharex = True, figsize = (15,5))\n",
    "((data[data['y']=='yes']['education'].value_counts()/len(data[data['y']=='yes']['education']))*100).plot(ax = axes[0], kind='barh',\n",
    "                                                                                                     color = 'orange',\n",
    "                                                                                                     title = 'Clients who signed up')\n",
    "\n",
    "\n",
    "((data[data['y']=='no']['education'].value_counts()/len(data[data['y']=='no']['education']))*100).plot(ax = axes[1], kind='barh', \n",
    "                                                                                                   title = 'Clients who did not sign up')\n",
    "plt.show();\n"
   ]
  },
  {
   "cell_type": "markdown",
   "id": "867d7625",
   "metadata": {},
   "source": [
    "We see a very similar distribution between clients who did sign up and those who didn't for term deposits. however, it's very obvious that those with a tertiary background is a larger group with subscriptions when compared to those who don't have subscriptions to term deposits. "
   ]
  },
  {
   "cell_type": "code",
   "execution_count": null,
   "id": "5863f429",
   "metadata": {},
   "outputs": [],
   "source": [
    "plt.figure(figsize=(8,8))\n",
    "sns.boxenplot(x='age', y='education', data = data, hue = 'y')\n",
    "plt.xticks(rotation = 45)\n",
    "plt.title('Distribution of Clients by Age for different Education')\n",
    "plt.show();"
   ]
  },
  {
   "cell_type": "markdown",
   "id": "354be75a",
   "metadata": {},
   "source": [
    "We see rougly the same distribution in ages between the different education groups. "
   ]
  },
  {
   "cell_type": "code",
   "execution_count": null,
   "id": "821eb093",
   "metadata": {},
   "outputs": [],
   "source": [
    "crosstable = pd.crosstab(data['education'], data['marital'])\n",
    "crosstable = pd.DataFrame(crosstable)\n",
    "crosstable"
   ]
  },
  {
   "cell_type": "code",
   "execution_count": null,
   "id": "e442109b",
   "metadata": {},
   "outputs": [],
   "source": [
    "column_names = list(crosstable.columns)\n",
    "data_names = list(data.columns)"
   ]
  },
  {
   "cell_type": "code",
   "execution_count": null,
   "id": "2860e2ab",
   "metadata": {},
   "outputs": [],
   "source": [
    "plt.figure(figsize = (20,20))\n",
    "props = {}\n",
    "props[(column_names[1], str(crosstable.index[1]))] = {'facecolor': 'red', 'edgecolor': 'white'}\n",
    "props[(column_names[1], str(crosstable.index[0]))] = {'facecolor': 'yellow', 'edgecolor': 'white'}\n",
    "props[(column_names[1], str(crosstable.index[2]))] = {'facecolor': 'blue', 'edgecolor': 'white'}\n",
    "props[(column_names[0], str(crosstable.index[2]))] = {'facecolor': 'green', 'edgecolor': 'white'}\n",
    "props[(column_names[0], str(crosstable.index[1]))] = {'facecolor': 'orange', 'edgecolor': 'white'}\n",
    "props[(column_names[0], str(crosstable.index[0]))] = {'facecolor': 'brown', 'edgecolor': 'white'}\n",
    "props[(column_names[2], str(crosstable.index[0]))] = {'facecolor': 'purple', 'edgecolor': 'white'}\n",
    "props[(column_names[2], str(crosstable.index[1]))] = {'facecolor': 'cyan', 'edgecolor': 'white'}\n",
    "props[(column_names[2], str(crosstable.index[2]))] = {'facecolor': 'gray', 'edgecolor': 'white'}\n",
    "mosaic(data, [data_names[3], data_names[2]], properties = props, gap=0.01 )\n",
    "plt.show();"
   ]
  },
  {
   "cell_type": "markdown",
   "id": "a80bf1c3",
   "metadata": {},
   "source": [
    "## Financial Profile\n",
    "Some of the features can be used to group customers according to known financial information. For example, we can try to group customers based on their balance, previous borrowing history such as whether they have defaul on loans, if they have housing and personal loans, \n",
    "### Default\n",
    "\n",
    "Type of Data: Binary where 'yes' indicates the customer defaulted on a loan"
   ]
  },
  {
   "cell_type": "code",
   "execution_count": null,
   "id": "bebf709c",
   "metadata": {},
   "outputs": [],
   "source": [
    "fig, axes = plt.subplots(nrows=1, ncols = 2, figsize = (12,6))\n",
    "pd.crosstab(data['default'], data['y']).plot(ax = axes[0],kind='bar', stacked=True, rot=0)\n",
    "data.groupby('default')['y'].value_counts(normalize = True).unstack('y').plot.bar(stacked=True, ax = axes[1], rot = 45,\n",
    "                                                                                  title = 'Normalised Distribution of subscriptions depending on Default status')\n",
    "plt.show();"
   ]
  },
  {
   "cell_type": "code",
   "execution_count": null,
   "id": "dfc9aa87",
   "metadata": {},
   "outputs": [],
   "source": [
    "default_cust = data[data['default']=='yes']\n",
    "default_cust.describe()"
   ]
  },
  {
   "cell_type": "code",
   "execution_count": null,
   "id": "150cd4f3",
   "metadata": {},
   "outputs": [],
   "source": [
    "rest_cust = data[data['default']=='no']\n",
    "rest_cust.describe()"
   ]
  },
  {
   "cell_type": "code",
   "execution_count": null,
   "id": "65ae4abc",
   "metadata": {},
   "outputs": [],
   "source": [
    "print('Percentage of customers who default on loans and are either on 0 balance or overdrawn: ', len(default_cust[default_cust['balance']<=0])/len(default_cust) *100)\n",
    "print('Percentage of customers who do not default on loans, but are on 0 balance or overdrawn: ', len(rest_cust[rest_cust['balance']<=0])/len(rest_cust) *100)"
   ]
  },
  {
   "cell_type": "code",
   "execution_count": null,
   "id": "61120307",
   "metadata": {},
   "outputs": [],
   "source": [
    "len(rest_cust[rest_cust['age']>=60])/len(rest_cust)*100"
   ]
  },
  {
   "cell_type": "code",
   "execution_count": null,
   "id": "b0ee61ca",
   "metadata": {},
   "outputs": [],
   "source": [
    "print('Distribution of customers who have defaulted on loans by edcuation:\\n' , default_cust.groupby('y')['education'].value_counts()/len(default_cust)*100)\n",
    "print('\\n')\n",
    "print('Distribution of customers who have not defaulted on loans by edcuation:\\n' , rest_cust.groupby('y')['education'].value_counts()/len(rest_cust)*100)\n",
    "fig, axes = plt.subplots(1, 2, sharex = True, sharey = True, figsize = (17,5))\n",
    "\n",
    "(default_cust.groupby('y')['education'].value_counts()/len(default_cust)*100).plot(kind='barh', ax=axes[0], title = 'Clients who defaulted on loans')\n",
    "\n",
    "(rest_cust.groupby('y')['education'].value_counts()/len(rest_cust)*100).plot(kind='barh', ax=axes[1],\n",
    "                                                                            title= 'Clients who did not default on loans')\n",
    "plt.show();"
   ]
  },
  {
   "cell_type": "code",
   "execution_count": null,
   "id": "82c0cfa1",
   "metadata": {},
   "outputs": [],
   "source": [
    "print('Distribution of customers who have defaulted on loans segmented by jobs:\\n' , default_cust.groupby('y')['job'].value_counts()/len(default_cust)*100)\n",
    "print('\\n')\n",
    "print('Distribution of customers who have not defaulted on loans segmented by jobs:\\n' , rest_cust.groupby('y')['job'].value_counts()/len(rest_cust)*100)\n",
    "fig, axes = plt.subplots(1, 2, sharex = True, sharey = True, figsize = (17,5))\n",
    "\n",
    "(default_cust.groupby('y')['job'].value_counts()/len(default_cust)*100).plot(kind='barh', ax=axes[0],\n",
    "                                                                            title = 'Clients who did default on loans')\n",
    "\n",
    "(rest_cust.groupby('y')['job'].value_counts()/len(rest_cust)*100).plot(kind='barh', ax = axes[1], \n",
    "                                                                      title = 'Client who did not default on loans')\n",
    "plt.show();\n"
   ]
  },
  {
   "cell_type": "code",
   "execution_count": null,
   "id": "029a0efd",
   "metadata": {},
   "outputs": [],
   "source": [
    "plt.figure(figsize=(8,8))\n",
    "sns.boxenplot(x='age', y='default', data = data, hue = 'y')\n",
    "plt.xticks(rotation = 45)\n",
    "plt.title('Distribution of Clients by Age by Default Status')\n",
    "plt.show();"
   ]
  },
  {
   "cell_type": "markdown",
   "id": "4c551693",
   "metadata": {},
   "source": [
    "As we would expect, those who have previously defaulted on loans mostly didn't sign up for term deposits. Those with secondary level education are the largest group of those who took out loans, again forming the largest segmentation of customers who did default on loans and had signed up for term deposits. This doens't necessarily mean that secondary education is what we should look for when trying to determine which customers to target and could be just a consequence of the inblanaced dataset. "
   ]
  },
  {
   "cell_type": "markdown",
   "id": "b1eefe1f",
   "metadata": {},
   "source": [
    "### Average Yearly Balance (Euros)\n",
    "\n",
    "Type of Data: Numeric (integer)\n"
   ]
  },
  {
   "cell_type": "code",
   "execution_count": null,
   "id": "e72697eb",
   "metadata": {},
   "outputs": [],
   "source": [
    "fig, ax = plt.subplots(figsize = (12, 6))\n",
    "sns.kdeplot(data[data['y']=='yes']['balance'], color = 'orange', ax = ax, label = 'yes')\n",
    "sns.kdeplot(data[data['y']=='no']['balance'], ax = ax, label = 'no')\n",
    "plt.axvline(np.mean((data[data['y']=='yes']['balance'])), c = 'orange')\n",
    "plt.axvline(np.mean((data[data['y']=='no']['balance'])), c = 'blue')\n",
    "ax.legend()\n",
    "plt.show();"
   ]
  },
  {
   "cell_type": "code",
   "execution_count": null,
   "id": "6875f0f8",
   "metadata": {},
   "outputs": [],
   "source": [
    "np.min(data['balance'])"
   ]
  },
  {
   "cell_type": "code",
   "execution_count": null,
   "id": "a158634b",
   "metadata": {},
   "outputs": [],
   "source": [
    "print('Number of customers who have 0 or negative balance: ', len(data[data['balance']<=0]))\n",
    "print('Percentage of the whole dataset who are overdrawn or on 0 balance: ',len(data[data['balance']<=0])/len(data)*100)"
   ]
  },
  {
   "cell_type": "code",
   "execution_count": null,
   "id": "5f57842b",
   "metadata": {},
   "outputs": [],
   "source": [
    "overdrawn_customers = data[data['balance']<=0]\n",
    "overdrawn_customers.head()"
   ]
  },
  {
   "cell_type": "code",
   "execution_count": null,
   "id": "917ec04d",
   "metadata": {},
   "outputs": [],
   "source": [
    "incredit_customers = data[data['balance']>0]\n",
    "incredit_customers.head()"
   ]
  },
  {
   "cell_type": "code",
   "execution_count": null,
   "id": "162b580d",
   "metadata": {},
   "outputs": [],
   "source": [
    "print('Percentage of Customers who have 0 balance or are overdrawn: ', overdrawn_customers['y'].value_counts()/len(overdrawn_customers)*100)\n",
    "print('\\n')\n",
    "print('Percentage of Customers who have more than 0 balance: ',incredit_customers['y'].value_counts()/len(incredit_customers)*100)\n",
    "\n",
    "fig, axes = plt.subplots(1, 2, sharex = True, sharey = True, figsize = (17,5))\n",
    "\n",
    "(overdrawn_customers['y'].value_counts()/len(overdrawn_customers)*100).plot(ax = axes[0], \n",
    "                                                                            title= 'Overdrawn or 0 Balance',\n",
    "                                                                            kind='barh')\n",
    "\n",
    "\n",
    "(incredit_customers['y'].value_counts()/len(incredit_customers)*100).plot(ax = axes[1],\n",
    "                                                                          title = \"Clients with balance more than 0\",\n",
    "                                                                          kind='barh')"
   ]
  },
  {
   "cell_type": "code",
   "execution_count": null,
   "id": "ba753995",
   "metadata": {},
   "outputs": [],
   "source": [
    "overdrawn_customers.describe()"
   ]
  },
  {
   "cell_type": "code",
   "execution_count": null,
   "id": "1781a7a4",
   "metadata": {},
   "outputs": [],
   "source": [
    "incredit_customers.describe()"
   ]
  },
  {
   "cell_type": "code",
   "execution_count": null,
   "id": "c9872e92",
   "metadata": {},
   "outputs": [],
   "source": [
    "print('Distribution of overdrawn customers by edcuation:\\n' , overdrawn_customers.groupby('y')['education'].value_counts()/len(overdrawn_customers)*100)\n",
    "print('Distribution of incredit customers by edcuation:\\n' , incredit_customers.groupby('y')['education'].value_counts()/len(incredit_customers)*100)\n",
    "fig, axes = plt.subplots(1, 2, sharex = True, sharey = True, figsize = (17,5))\n",
    "(overdrawn_customers.groupby('y')['education'].value_counts()/len(overdrawn_customers)*100).plot(ax = axes[0],kind='barh', \n",
    "                                                                                 title= 'Overdrawn Customers')\n",
    "(incredit_customers.groupby('y')['education'].value_counts()/len(incredit_customers)*100).plot(kind='barh', ax=axes[1], \n",
    "                                                                              title = 'Incredit Customers')\n",
    "plt.show();"
   ]
  },
  {
   "cell_type": "code",
   "execution_count": null,
   "id": "4cb2eba9",
   "metadata": {},
   "outputs": [],
   "source": [
    "print('Distribution of overdrawn customers by employment:\\n' , overdrawn_customers.groupby('y')['job'].value_counts()/len(overdrawn_customers)*100)\n",
    "print('\\n')\n",
    "print('Distribution of incredit customers by employment:\\n' , incredit_customers.groupby('y')['job'].value_counts()/len(incredit_customers)*100)\n",
    "fig, axes = plt.subplots(1, 2, sharex = True, sharey = True, figsize = (17,5))\n",
    "(overdrawn_customers.groupby('y')['job'].value_counts()/len(overdrawn_customers)*100).plot(ax=axes[0],kind='barh', \n",
    "                                                                                          title = 'Overdrawn Customers')\n",
    "(incredit_customers.groupby('y')['job'].value_counts()/len(incredit_customers)*100).plot(kind='barh', stacked=True, ax=axes[1], \n",
    "                                                                                        title = 'Incredit Customers')\n",
    "plt.show();"
   ]
  },
  {
   "cell_type": "code",
   "execution_count": null,
   "id": "00540265",
   "metadata": {},
   "outputs": [],
   "source": [
    "fig, axes = plt.subplots(2, 1, sharex = True, figsize = (15,5))\n",
    "fig.suptitle('Boxplots of distribution of Blanace maintained by clients')\n",
    "sns.boxplot(x='balance', data = data[data['y']=='yes'], ax= axes[0])\n",
    "axes[0].set_title('Yes')\n",
    "sns.boxplot(x='balance', data = data[data['y']=='no'], ax = axes[1] )\n",
    "axes[1].set_title('No')\n",
    "plt.subplots_adjust(wspace=0.6, hspace=0.6)\n",
    "plt.show();"
   ]
  },
  {
   "cell_type": "code",
   "execution_count": null,
   "id": "9d75e12c",
   "metadata": {},
   "outputs": [],
   "source": [
    "np.min(data[data['y']=='yes']['balance'])"
   ]
  },
  {
   "cell_type": "code",
   "execution_count": null,
   "id": "c7357ce6",
   "metadata": {},
   "outputs": [],
   "source": [
    "np.max(data[data['y']=='no']['balance'])"
   ]
  },
  {
   "cell_type": "code",
   "execution_count": null,
   "id": "9137ed01",
   "metadata": {},
   "outputs": [],
   "source": [
    "np.max(data[data['y']=='yes']['balance'])"
   ]
  },
  {
   "cell_type": "code",
   "execution_count": null,
   "id": "6f47f73e",
   "metadata": {},
   "outputs": [],
   "source": [
    "sns.scatterplot(x='balance', y='default', data=data, hue='y')"
   ]
  },
  {
   "cell_type": "code",
   "execution_count": null,
   "id": "eabaf42f",
   "metadata": {},
   "outputs": [],
   "source": [
    "sns.scatterplot(x='age', y='balance', data = data, hue = 'y')\n",
    "plt.show();"
   ]
  },
  {
   "cell_type": "markdown",
   "id": "8a8c9c95",
   "metadata": {},
   "source": [
    "We see roughly 5% of customers who had defaulted on loans and had agreed to term deposits maintained an average annual balance of 0 or were overdrawn. This goes up to roughly 8% when we look at customers who haven't defaulted on loans. When we compare the customer profiling metrics between overdrawn and incredit customers we see that both of these groups have roughly the same distribution in ages of customers. We see the the percentages of customers from various education backgrounds and to some extent in jobs are also mimicked between those who are overdrawn and those who aren't. This suggests that looking to differentiate between customers with overdrawn as a feature is not useful. When we look at the balance of customers who have signed up for term deposits grouped by employmnet and education backgrounds, we do see that for every segment customers who have higher balances sign up for term deposits. This suggests balance is a possible key feature, however how to segment customers based on balance is something we need to dig deeper into. "
   ]
  },
  {
   "cell_type": "markdown",
   "id": "35c6bf58",
   "metadata": {},
   "source": [
    "### Housing Loans\n",
    "\n",
    "Type of data: Binary where 'yes' indicates whether the customer has housing loans or not"
   ]
  },
  {
   "cell_type": "code",
   "execution_count": null,
   "id": "867e0c73",
   "metadata": {},
   "outputs": [],
   "source": [
    "fig, axes = plt.subplots(nrows=1, ncols = 2, figsize = (12,6))\n",
    "pd.crosstab(data['housing'], data['y']).plot(kind='bar', stacked=True, rot=0, ax=axes[0])\n",
    "data.groupby('housing')['y'].value_counts(normalize = True).unstack('y').plot.bar(stacked=True, ax = axes[1], rot = 45,\n",
    "                                                                             title = 'Normalised Distribution of subscriptions based on Housing Loans')\n",
    "plt.show();"
   ]
  },
  {
   "cell_type": "code",
   "execution_count": null,
   "id": "b8ca309a",
   "metadata": {},
   "outputs": [],
   "source": [
    "has_housing = data[data['housing']=='yes']\n",
    "no_housing = data[data['housing']=='no']"
   ]
  },
  {
   "cell_type": "code",
   "execution_count": null,
   "id": "817e79e3",
   "metadata": {},
   "outputs": [],
   "source": [
    "print('Distribution of customers who have housing loans segmented by education:\\n' , has_housing.groupby('y')['education'].value_counts()/len(has_housing)*100)\n",
    "print('Distribution of customers without housing loans segmented by education:\\n' , no_housing.groupby('y')['education'].value_counts()/len(no_housing)*100)\n",
    "fig, axes = plt.subplots(1, 2, sharex = True, sharey = True, figsize = (17,5))\n",
    "(has_housing.groupby('y')['education'].value_counts()/len(has_housing)*100).plot(ax = axes[0],kind='barh', \n",
    "                                                                                 title= 'Has Housing Loans')\n",
    "(no_housing.groupby('y')['education'].value_counts()/len(no_housing)*100).plot(kind='barh', ax=axes[1], \n",
    "                                                                              title = 'Without Housing Loans')\n",
    "plt.show();"
   ]
  },
  {
   "cell_type": "code",
   "execution_count": null,
   "id": "234853f1",
   "metadata": {},
   "outputs": [],
   "source": [
    "print('Distribution of customers who have housing loans segmented by jobs:\\n' , has_housing.groupby('y')['job'].value_counts()/len(has_housing)*100)\n",
    "print('Distribution of customers without housing loans segmented by education:\\n' , no_housing.groupby('y')['job'].value_counts()/len(no_housing)*100)\n",
    "fig, axes = plt.subplots(1, 2, sharex = True, sharey = True, figsize = (17,5))\n",
    "(has_housing.groupby('y')['job'].value_counts()/len(has_housing)*100).plot(ax = axes[0],kind='barh', \n",
    "                                                                                 title= 'Has Housing Loans')\n",
    "(no_housing.groupby('y')['job'].value_counts()/len(no_housing)*100).plot(kind='barh', ax=axes[1], \n",
    "                                                                              title = 'Without Housing Loans')\n",
    "plt.show();"
   ]
  },
  {
   "cell_type": "code",
   "execution_count": null,
   "id": "4eb7a9ed",
   "metadata": {},
   "outputs": [],
   "source": [
    "has_housing"
   ]
  },
  {
   "cell_type": "code",
   "execution_count": null,
   "id": "53e2a102",
   "metadata": {},
   "outputs": [],
   "source": [
    "plt.figure(figsize=(8,8))\n",
    "sns.boxenplot(x='age', y='housing', data = data, hue = 'y')\n",
    "plt.xticks(rotation = 45)\n",
    "plt.title('Distribution of Clients by Age by Housing Loans')\n",
    "plt.show();"
   ]
  },
  {
   "cell_type": "markdown",
   "id": "bf9f2bcb",
   "metadata": {},
   "source": [
    "### Personal Loan\n",
    "\n",
    "Type of Data: Binary data where 'yes' indicates the customer has personal loans "
   ]
  },
  {
   "cell_type": "code",
   "execution_count": null,
   "id": "ab1c3ed7",
   "metadata": {},
   "outputs": [],
   "source": [
    "fig, axes = plt.subplots(nrows=1, ncols = 2, figsize = (12,6))\n",
    "pd.crosstab(data['loan'], data['y']).plot(ax = axes[0],kind='bar', stacked=True, rot=0)\n",
    "data.groupby('loan')['y'].value_counts(normalize = True).unstack('y').plot.bar(stacked=True, ax = axes[1], rot = 45,\n",
    "                                                                                  title = 'Normalised Distribution of subscriptions depending on Personla Loan Status')\n",
    "plt.show();"
   ]
  },
  {
   "cell_type": "code",
   "execution_count": null,
   "id": "08a9020b",
   "metadata": {},
   "outputs": [],
   "source": [
    "plt.figure(figsize=(8,8))\n",
    "sns.boxenplot(x='age', y='loan', data = data, hue = 'y')\n",
    "plt.xticks(rotation = 45)\n",
    "plt.title('Distribution of Clients by Age by Personal Loans')\n",
    "plt.show();"
   ]
  },
  {
   "cell_type": "code",
   "execution_count": null,
   "id": "5f0fb495",
   "metadata": {},
   "outputs": [],
   "source": [
    "has_personal_loan = data[data['loan']=='yes']\n",
    "has_no_loan = data[data['loan']=='no']"
   ]
  },
  {
   "cell_type": "code",
   "execution_count": null,
   "id": "ae74ac86",
   "metadata": {},
   "outputs": [],
   "source": [
    "print('Distribution of customers with personal loans:\\n' , has_personal_loan.groupby('y')['education'].value_counts()/len(has_personal_loan)*100)\n",
    "print('\\n')\n",
    "print('Distribution of customers without personal loans: \\n' , has_no_loan.groupby('y')['education'].value_counts()/len(has_no_loan)*100)\n",
    "fig, axes = plt.subplots(1, 2, sharex = True, sharey = True, figsize = (17,5))\n",
    "\n",
    "(has_personal_loan.groupby('y')['education'].value_counts()/len(has_personal_loan)*100).plot(kind='barh', ax=axes[0], title = 'Clients with personal loans')\n",
    "\n",
    "(has_no_loan.groupby('y')['education'].value_counts()/len(has_no_loan)*100).plot(kind='barh', ax=axes[1],\n",
    "                                                                            title= 'Clients without personal loans')\n",
    "plt.show();"
   ]
  },
  {
   "cell_type": "code",
   "execution_count": null,
   "id": "a04eaa67",
   "metadata": {},
   "outputs": [],
   "source": [
    "print('Distribution of customers with personal loans:\\n' , has_personal_loan.groupby('y')['job'].value_counts()/len(has_personal_loan)*100)\n",
    "print('\\n')\n",
    "print('Distribution of customers without personal loans: \\n' , has_no_loan.groupby('y')['job'].value_counts()/len(has_no_loan)*100)\n",
    "fig, axes = plt.subplots(1, 2, sharex = True, sharey = True, figsize = (17,5))\n",
    "\n",
    "(has_personal_loan.groupby('y')['job'].value_counts()/len(has_personal_loan)*100).plot(kind='barh', ax=axes[0], title = 'Clients with personal loans')\n",
    "\n",
    "(has_no_loan.groupby('y')['job'].value_counts()/len(has_no_loan)*100).plot(kind='barh', ax=axes[1],\n",
    "                                                                            title= 'Clients without personal loans')\n",
    "plt.show();"
   ]
  },
  {
   "cell_type": "code",
   "execution_count": null,
   "id": "09303c51",
   "metadata": {},
   "outputs": [],
   "source": [
    "fig, axes = plt.subplots(1, 2, sharey = True, figsize = (15,5))\n",
    "sns.countplot(x='default', data = has_personal_loan, ax=axes[0])\n",
    "axes[0].set_title('Has Loans')\n",
    "sns.countplot(x='default', data = has_no_loan, ax = axes[1])\n",
    "axes[1].set_title('Has No Personal Loans')\n",
    "plt.show();\n"
   ]
  },
  {
   "cell_type": "markdown",
   "id": "95fe6e27",
   "metadata": {},
   "source": [
    "## Marketing Strategies\n",
    "We can finally explore features such as communication type, the last day and month of contact, duration of last contact, and number of times contacted during the last campaign to see if there are strategies that have yielded a higher number of subscriptions for term deposits. \n",
    "\n",
    "### Communication Type\n",
    "\n",
    "Type of Data: categorical"
   ]
  },
  {
   "cell_type": "code",
   "execution_count": null,
   "id": "71b037f5",
   "metadata": {},
   "outputs": [],
   "source": [
    "fig, axes = plt.subplots(nrows=1, ncols = 2, figsize = (12,6))\n",
    "pd.crosstab(data['contact'], data['y']).plot(kind='bar', stacked=True,rot=0, ax= axes[0])\n",
    "data.groupby('contact')['y'].value_counts(normalize = True).unstack('y').plot.bar(rot = 45, stacked=True, ax = axes[1], \n",
    "                                                                                 title = 'Normalised Distribution of clients based on Communication Type')\n",
    "plt.show();"
   ]
  },
  {
   "cell_type": "code",
   "execution_count": null,
   "id": "eb6e7348",
   "metadata": {},
   "outputs": [],
   "source": [
    "cellular = data[data['contact']=='cellular']\n",
    "tel_contact = data[data['contact']=='telephone']\n",
    "misc_cont = data[data['contact']=='unknown']"
   ]
  },
  {
   "cell_type": "code",
   "execution_count": null,
   "id": "92f9954f",
   "metadata": {},
   "outputs": [],
   "source": [
    "print(\"Count of Clients by communication style who subscribed for term deposits: \\n\",\n",
    "      (data[data['y']=='yes']['contact'].value_counts()/len(data[data['y']=='yes']['contact']))*100)\n",
    "print('\\n')\n",
    "print(\"Count of Clients by communication style who didn't subscribe for term deposits: \\n\",\n",
    "      (data[data['y']=='no']['contact'].value_counts()/len(data[data['y']=='no']['contact']))*100)\n",
    "fig, axes = plt.subplots(1, 2, sharex = True, figsize = (15,5))\n",
    "((data[data['y']=='yes']['contact'].value_counts()/len(data[data['y']=='yes']['contact']))*100).plot(ax=axes[0],kind='barh', color = 'orange', \n",
    "                                                                                             title = 'Clients who signed up' )\n",
    "((data[data['y']=='no']['contact'].value_counts()/len(data[data['y']=='no']['contact']))*100).plot(kind='barh', ax= axes[1], \n",
    "                                                                                          title = 'Clients who did not sign up')\n",
    "plt.show();"
   ]
  },
  {
   "cell_type": "code",
   "execution_count": null,
   "id": "8b2c75e5",
   "metadata": {},
   "outputs": [],
   "source": [
    "plt.figure(figsize=(10,8))\n",
    "sns.boxenplot(x='age', y='contact', data = data, hue = 'y')\n",
    "plt.xticks(rotation = 45)\n",
    "plt.title('Distribution of Clients with different communication styles by Age')\n",
    "plt.show();"
   ]
  },
  {
   "cell_type": "code",
   "execution_count": null,
   "id": "eb06bbe0",
   "metadata": {},
   "outputs": [],
   "source": [
    "fig, axes = plt.subplots(1, 3, sharex = True, sharey = True, figsize = (15,8))\n",
    "\n",
    "(cellular.groupby('y')['job'].value_counts()/len(cellular)*100).plot(kind='barh', ax=axes[0],\n",
    "                                                                            title = 'Cellular')\n",
    "\n",
    "(tel_contact.groupby('y')['job'].value_counts()/len(tel_contact)*100).plot(kind='barh', ax = axes[1], \n",
    "                                                                      title = 'Telephone')\n",
    "\n",
    "(misc_cont.groupby('y')['job'].value_counts()/len(misc_cont)*100).plot(kind='barh', ax = axes[2], \n",
    "                                                                      title = 'Unknown')\n",
    "plt.show();\n"
   ]
  },
  {
   "cell_type": "markdown",
   "id": "71aca829",
   "metadata": {},
   "source": [
    "Similar distributions however we can see that celluar contact has a higher frequency amongst the clients who signed up for subsciptions. "
   ]
  },
  {
   "cell_type": "markdown",
   "id": "4cfc8f8f",
   "metadata": {},
   "source": [
    "### Last Day of Contact of the Month\n",
    "\n",
    "Type of Data: numeric"
   ]
  },
  {
   "cell_type": "code",
   "execution_count": null,
   "id": "fbbb4c9f",
   "metadata": {},
   "outputs": [],
   "source": [
    "sns.displot(data['day'], kind='kde')\n",
    "plt.axvline(np.mean(data['day']), c='red')\n",
    "plt.show();"
   ]
  },
  {
   "cell_type": "code",
   "execution_count": null,
   "id": "dd11d1cd",
   "metadata": {},
   "outputs": [],
   "source": [
    "print(\"Day's of the month by freqeuncy:\\n\", data['day'].value_counts()/len(data)*100)"
   ]
  },
  {
   "cell_type": "markdown",
   "id": "901b7289",
   "metadata": {},
   "source": [
    "The distribution looks multimodal."
   ]
  },
  {
   "cell_type": "code",
   "execution_count": null,
   "id": "9976e316",
   "metadata": {},
   "outputs": [],
   "source": [
    "fig, axes = plt.subplots(nrows=1, ncols = 2, figsize = (18,6))\n",
    "\n",
    "pd.crosstab(data['day'], data['y']).plot(kind='bar', stacked=True, ax=axes[0], rot=0)\n",
    "data.groupby('day')['y'].value_counts(normalize = True).unstack('y').plot.bar(stacked=True, ax = axes[1], rot = 45,\n",
    "                                                                             title = 'Normalised Distribution of subscriptions by Last Day of Contact')\n",
    "plt.show();"
   ]
  },
  {
   "cell_type": "code",
   "execution_count": null,
   "id": "b6814fb7",
   "metadata": {},
   "outputs": [],
   "source": [
    "fig, axes = plt.subplots(nrows=1, ncols = 2, figsize = (8, 10))\n",
    "(data[data['y']=='yes']['day'].value_counts()/len(data[data['y']=='yes'])*100).plot(ax = axes[0], kind='barh', color = 'orange',\n",
    "                                                                                   title = 'Yes')\n",
    "(data[data['y']=='no']['day'].value_counts()/len(data[data['y']=='no'])*100).plot(ax = axes[1], kind='barh', title = 'No')\n",
    "plt.show();"
   ]
  },
  {
   "cell_type": "markdown",
   "id": "61df4875",
   "metadata": {},
   "source": [
    "### Last Contact Month of the Year\n",
    "\n",
    "Type of Data: Categorical"
   ]
  },
  {
   "cell_type": "code",
   "execution_count": null,
   "id": "2cae9e82",
   "metadata": {},
   "outputs": [],
   "source": [
    "sns.displot(data['month'], kind='kde')\n",
    "plt.axvline(np.mean(data['month']), c='red')\n",
    "plt.show();"
   ]
  },
  {
   "cell_type": "code",
   "execution_count": null,
   "id": "e75c8708",
   "metadata": {},
   "outputs": [],
   "source": [
    "fig, axes = plt.subplots(nrows=1, ncols = 2, figsize = (12,6))\n",
    "\n",
    "pd.crosstab(data['month'], data['y']).plot(kind='bar', stacked=True, ax=axes[0], rot=0)\n",
    "data.groupby('month')['y'].value_counts(normalize = True).unstack('y').plot.bar(stacked=True, ax = axes[1], rot = 45,\n",
    "                                                                             title = 'Normalised Distribution of subscriptions by Last Month of Contact')\n",
    "plt.show();"
   ]
  },
  {
   "cell_type": "code",
   "execution_count": null,
   "id": "8afc878d",
   "metadata": {},
   "outputs": [],
   "source": [
    "plt.figure(figsize=(15,8))\n",
    "sns.boxenplot(y='age', x='month', data = data, hue = 'y')\n",
    "plt.xticks(rotation = 45)\n",
    "plt.title('Distribution of Clients by Age')\n",
    "plt.show();"
   ]
  },
  {
   "cell_type": "code",
   "execution_count": null,
   "id": "7c383136",
   "metadata": {},
   "outputs": [],
   "source": [
    "plt.figure(figsize = (10,8))\n",
    "(data.groupby('y')['month'].value_counts()/len(data)*100).plot(kind='barh', title = 'Clients Segregated by Month')\n",
    "plt.show();"
   ]
  },
  {
   "cell_type": "markdown",
   "id": "7e697ac3",
   "metadata": {},
   "source": [
    "We see that the highest number of customers who subscribed and those who didn't subscribe for term deposits all occured during the month of May. This is most likely due to there being a higher frequency of customers in may. This further supports the idea we should look at months of March and October as the months of higher subscription rates. "
   ]
  },
  {
   "cell_type": "markdown",
   "id": "7b487655",
   "metadata": {},
   "source": [
    "### Duration of the Last Contact (Seconds)\n",
    "\n",
    "Type of Data: Numeric"
   ]
  },
  {
   "cell_type": "code",
   "execution_count": null,
   "id": "c7646e45",
   "metadata": {},
   "outputs": [],
   "source": [
    "sns.displot(data['duration'], kind='kde')\n",
    "plt.axvline(np.mean(data['duration']), c='red')\n",
    "plt.show();"
   ]
  },
  {
   "cell_type": "code",
   "execution_count": null,
   "id": "a35c3118",
   "metadata": {
    "scrolled": true
   },
   "outputs": [],
   "source": [
    "fig, axes = plt.subplots(nrows=2, ncols = 1, figsize = (25,5))\n",
    "pd.crosstab(data['duration'], data['y']).plot(kind='bar', stacked=True, rot=90, ax = axes[0], \n",
    "                                         title = 'Distribution of Clients by duration of Last Contact')\n",
    "data.groupby('duration')['y'].value_counts(normalize = True).unstack('y').plot.bar(stacked=True, ax = axes[1], rot = 90,\n",
    "                                                                             title = 'Normalised Distribution of duration of Last Contact')\n",
    "plt.subplots_adjust(wspace=0.6, hspace=0.6)\n",
    "plt.show();"
   ]
  },
  {
   "cell_type": "code",
   "execution_count": null,
   "id": "2bf6adfd",
   "metadata": {},
   "outputs": [],
   "source": [
    "fig, axes = plt.subplots(2, 1, sharex = True, sharey = True, figsize = (15,8))\n",
    "sns.boxplot(x='duration', data = data[data['y']=='no'], ax = axes[0])\n",
    "axes[0].set_title('No')\n",
    "sns.boxplot(x='duration', data = data[data['y']=='yes'], ax = axes[1] )\n",
    "axes[1].set_title('Yes')\n",
    "plt.show();"
   ]
  },
  {
   "cell_type": "code",
   "execution_count": null,
   "id": "0923351e",
   "metadata": {},
   "outputs": [],
   "source": [
    "np.min(data[data['y']=='no']['duration'])"
   ]
  },
  {
   "cell_type": "code",
   "execution_count": null,
   "id": "dc91acf7",
   "metadata": {},
   "outputs": [],
   "source": [
    "zero_duration = data[data['duration']==0]"
   ]
  },
  {
   "cell_type": "code",
   "execution_count": null,
   "id": "80e23b9a",
   "metadata": {},
   "outputs": [],
   "source": [
    "zero_duration['y'].nunique()"
   ]
  },
  {
   "cell_type": "code",
   "execution_count": null,
   "id": "cf546da0",
   "metadata": {},
   "outputs": [],
   "source": [
    "np.max(data[data['y']=='no']['duration'])"
   ]
  },
  {
   "cell_type": "code",
   "execution_count": null,
   "id": "a879ada2",
   "metadata": {},
   "outputs": [],
   "source": []
  },
  {
   "cell_type": "code",
   "execution_count": null,
   "id": "731e16c3",
   "metadata": {},
   "outputs": [],
   "source": [
    "np.min(data[data['y']=='yes']['duration'])"
   ]
  },
  {
   "cell_type": "code",
   "execution_count": null,
   "id": "b1566a33",
   "metadata": {},
   "outputs": [],
   "source": [
    "np.max(data[data['y']=='yes']['duration'])"
   ]
  },
  {
   "cell_type": "code",
   "execution_count": null,
   "id": "6da5ebfa",
   "metadata": {},
   "outputs": [],
   "source": [
    "sns.scatterplot(x='balance', y='duration', data = data, hue = 'y')"
   ]
  },
  {
   "cell_type": "code",
   "execution_count": null,
   "id": "b3f33d98",
   "metadata": {},
   "outputs": [],
   "source": []
  },
  {
   "cell_type": "markdown",
   "id": "dc9d5cd8",
   "metadata": {},
   "source": [
    "### Number of Contacts for each client for this campaign\n",
    "\n",
    "(note: this includes the last contact)\n",
    "\n",
    "Type of Data: Numeric"
   ]
  },
  {
   "cell_type": "code",
   "execution_count": null,
   "id": "5ada3b41",
   "metadata": {
    "scrolled": true
   },
   "outputs": [],
   "source": [
    "fig, axes = plt.subplots(nrows=2, ncols = 1, figsize = (20,7))\n",
    "pd.crosstab(data['campaign'], data['y']).plot(kind='bar', stacked=True, rot=0, ax = axes[0], \n",
    "                                         title = 'Distribution of Clients by Number of Contacts')\n",
    "data.groupby('campaign')['y'].value_counts(normalize = True).unstack('y').plot.bar(stacked=True, ax = axes[1], rot = 0,\n",
    "                                                                             title = 'Normalised Distribution by Number of Contacts')\n",
    "plt.subplots_adjust(wspace=0.6, hspace=0.6)\n",
    "plt.show();"
   ]
  },
  {
   "cell_type": "code",
   "execution_count": null,
   "id": "9d252696",
   "metadata": {},
   "outputs": [],
   "source": [
    "fig, axes = plt.subplots(2, 1, sharex = True, sharey = True, figsize = (15,8))\n",
    "sns.boxplot(x='campaign', data = data[data['y']=='no'], ax = axes[0])\n",
    "axes[0].set_title('No')\n",
    "sns.boxplot(x='campaign', data = data[data['y']=='yes'], ax = axes[1] )\n",
    "axes[1].set_title('Yes')\n",
    "plt.show();\n"
   ]
  },
  {
   "cell_type": "code",
   "execution_count": null,
   "id": "84f805f1",
   "metadata": {},
   "outputs": [],
   "source": [
    "plt.figure(figsize=(15,8))\n",
    "sns.boxenplot(y='age', x='campaign', data = data, hue = 'y')\n",
    "plt.xticks(rotation = 45)\n",
    "plt.title('Distribution of Clients by Number of Contacts ')\n",
    "plt.show();"
   ]
  },
  {
   "cell_type": "code",
   "execution_count": null,
   "id": "2aee6571",
   "metadata": {},
   "outputs": [],
   "source": [
    "data[data['campaign']==17]['y'].nunique()"
   ]
  },
  {
   "cell_type": "code",
   "execution_count": null,
   "id": "48e013ac",
   "metadata": {},
   "outputs": [],
   "source": [
    "sns.scatterplot(x='duration', y='campaign', data = data, hue = 'y')\n",
    "plt.title('Duration of Last Contact vs. The Number of times contacted for this campaign')\n",
    "plt.show()"
   ]
  },
  {
   "cell_type": "markdown",
   "id": "02cadc88",
   "metadata": {},
   "source": [
    "### Correlation"
   ]
  },
  {
   "cell_type": "code",
   "execution_count": null,
   "id": "240f552c",
   "metadata": {},
   "outputs": [],
   "source": [
    "plt.figure(figsize=(10,10))\n",
    "sns.heatmap(data.corr(), annot=True)\n",
    "plt.show();"
   ]
  },
  {
   "cell_type": "code",
   "execution_count": null,
   "id": "0d32a982",
   "metadata": {},
   "outputs": [],
   "source": [
    "data_og = data"
   ]
  },
  {
   "cell_type": "code",
   "execution_count": null,
   "id": "6268cfc7",
   "metadata": {},
   "outputs": [],
   "source": [
    "data_og"
   ]
  },
  {
   "cell_type": "code",
   "execution_count": null,
   "id": "ecac0713",
   "metadata": {},
   "outputs": [],
   "source": []
  },
  {
   "cell_type": "markdown",
   "id": "65c0a479",
   "metadata": {},
   "source": [
    "# Feature Engineering "
   ]
  },
  {
   "cell_type": "markdown",
   "id": "3328f6b2",
   "metadata": {},
   "source": [
    "### Categorical Data\n",
    "\n",
    "Categorical Features: job, marital, education, default, housing, loan, contact,y"
   ]
  },
  {
   "cell_type": "code",
   "execution_count": null,
   "id": "c26d72dd",
   "metadata": {},
   "outputs": [],
   "source": [
    "label_encoding = LabelEncoder()\n",
    "data['job'] = label_encoding.fit_transform(data['job'])\n",
    "data['marital'] = label_encoding.fit_transform(data['marital'])\n",
    "data['education'] = label_encoding.fit_transform(data['education'])\n",
    "data['default'] = label_encoding.fit_transform(data['default'])\n",
    "data['housing'] = label_encoding.fit_transform(data['housing'])\n",
    "data['loan'] = label_encoding.fit_transform(data['loan'])\n",
    "data['contact'] = label_encoding.fit_transform(data['contact'])\n",
    "data['y'] = label_encoding.fit_transform(data['y'])"
   ]
  },
  {
   "cell_type": "code",
   "execution_count": null,
   "id": "59bdb3f1",
   "metadata": {},
   "outputs": [],
   "source": [
    "data.head()"
   ]
  },
  {
   "cell_type": "code",
   "execution_count": null,
   "id": "ec7e4308",
   "metadata": {},
   "outputs": [],
   "source": []
  },
  {
   "cell_type": "markdown",
   "id": "96ea7a72",
   "metadata": {},
   "source": [
    "### Numerical Data \n",
    "\n",
    "SCALING: robust vs standard scaler\n",
    "\n",
    "* robust uses IQR so would be less influenced by outliers\n",
    "\n",
    "\n",
    "Numerical Features: age, day, month, duration"
   ]
  },
  {
   "cell_type": "code",
   "execution_count": null,
   "id": "2fcbee4a",
   "metadata": {},
   "outputs": [],
   "source": [
    "from sklearn.preprocessing import RobustScaler\n",
    "data_robust = data"
   ]
  },
  {
   "cell_type": "code",
   "execution_count": null,
   "id": "fe14591e",
   "metadata": {},
   "outputs": [],
   "source": [
    "rs = RobustScaler()\n",
    "rs_data = rs.fit_transform(data_robust)\n",
    "rs_data = pd.DataFrame(rs_data)\n",
    "rs_data.columns = data.columns\n",
    "rs_data.head()"
   ]
  },
  {
   "cell_type": "code",
   "execution_count": null,
   "id": "ae2d6231",
   "metadata": {},
   "outputs": [],
   "source": [
    "plt.figure(figsize=(10,10))\n",
    "sns.heatmap(rs_data.corr(), annot=True)\n",
    "plt.show();"
   ]
  },
  {
   "cell_type": "code",
   "execution_count": null,
   "id": "496453d9",
   "metadata": {},
   "outputs": [],
   "source": [
    "from sklearn.preprocessing import StandardScaler"
   ]
  },
  {
   "cell_type": "code",
   "execution_count": null,
   "id": "a60c9fe4",
   "metadata": {},
   "outputs": [],
   "source": [
    "data_standard = data"
   ]
  },
  {
   "cell_type": "code",
   "execution_count": null,
   "id": "48512f61",
   "metadata": {},
   "outputs": [],
   "source": [
    "ss = StandardScaler()\n",
    "ss_data = ss.fit_transform(data_standard)\n",
    "ss_data = pd.DataFrame(ss_data)\n",
    "ss_data.columns = data.columns\n",
    "ss_data.head()"
   ]
  },
  {
   "cell_type": "code",
   "execution_count": null,
   "id": "f3529f79",
   "metadata": {},
   "outputs": [],
   "source": [
    "plt.figure(figsize=(10,10))\n",
    "sns.heatmap(ss_data.corr(), annot=True)\n",
    "plt.show();"
   ]
  },
  {
   "cell_type": "markdown",
   "id": "30860b69",
   "metadata": {},
   "source": [
    "# Train Test Split"
   ]
  },
  {
   "cell_type": "code",
   "execution_count": null,
   "id": "cd6507bb",
   "metadata": {},
   "outputs": [],
   "source": [
    "X = data.drop('y', axis = 1)\n",
    "y = data['y']\n",
    "\n",
    "X_train, X_test, y_train, y_test = train_test_split(X.values, y.values, test_size = 0.2, random_state = 10)"
   ]
  },
  {
   "cell_type": "code",
   "execution_count": null,
   "id": "632a6cb3",
   "metadata": {},
   "outputs": [],
   "source": [
    "print(X_train.shape, y_train.shape)\n",
    "print(X_test.shape, y_test.shape)"
   ]
  },
  {
   "cell_type": "code",
   "execution_count": null,
   "id": "254b268f",
   "metadata": {},
   "outputs": [],
   "source": [
    "print('Percentage of dataset in Class 0: ', data[data['y'] == 0].shape[0]/len(data)*100)\n",
    "print('Percentage of dataset in Class 1: ', data[data['y'] == 1].shape[0]/len(data)*100)"
   ]
  },
  {
   "cell_type": "code",
   "execution_count": null,
   "id": "6f300b12",
   "metadata": {},
   "outputs": [],
   "source": [
    "print('Percentage of Class 0 in training set:', np.count_nonzero(y_train == 0)/len(y_train)*100)\n",
    "print('Percentage of Class 1 in training set:', np.count_nonzero(y_train == 1)/len(y_train)*100)"
   ]
  },
  {
   "cell_type": "code",
   "execution_count": null,
   "id": "6309015e",
   "metadata": {},
   "outputs": [],
   "source": [
    "print('Percentage of Class 0 in validation set:', np.count_nonzero(y_test == 0)/len(y_test)*100)\n",
    "print('Percentage of Class 1 in validation set:', np.count_nonzero(y_test == 1)/len(y_test)*100)"
   ]
  },
  {
   "cell_type": "markdown",
   "id": "25ba0f70",
   "metadata": {},
   "source": [
    "### Scaled Data"
   ]
  },
  {
   "cell_type": "code",
   "execution_count": null,
   "id": "14e695b2",
   "metadata": {},
   "outputs": [],
   "source": [
    "X_rs = rs_data.drop('y', axis = 1)\n",
    "y_rs = rs_data['y']\n",
    "\n",
    "X_rs_train, X_rs_test, y_rs_train, y_rs_test = train_test_split(X_rs.values, y_rs.values, test_size = 0.2, random_state = 10)"
   ]
  },
  {
   "cell_type": "code",
   "execution_count": null,
   "id": "be7755f0",
   "metadata": {},
   "outputs": [],
   "source": [
    "X_ss = ss_data.drop('y', axis = 1)\n",
    "y_ss = ss_data['y']\n",
    "\n",
    "X_ss_train, X_ss_test, y_ss_train, y_ss_test = train_test_split(X_ss.values, y_ss.values, test_size = 0.2, random_state = 10)"
   ]
  },
  {
   "cell_type": "markdown",
   "id": "39bf030d",
   "metadata": {},
   "source": [
    "# Classification Models \n",
    "\n",
    "1st attempt without scaling or stratefied sampling"
   ]
  },
  {
   "cell_type": "markdown",
   "id": "1777b945",
   "metadata": {},
   "source": [
    "## K Nearest Neighbors Classifier"
   ]
  },
  {
   "cell_type": "code",
   "execution_count": null,
   "id": "3e215523",
   "metadata": {},
   "outputs": [],
   "source": [
    "base_knn = KNeighborsClassifier()\n",
    "base_knn.fit(X_train, y_train)\n",
    "y_pred = base_knn.predict(X_test)\n",
    "training_score = base_knn.fit(X_train, y_train).score(X_train, y_train)\n",
    "print('Accuracy Score: ', accuracy_score(y_test, y_pred))\n",
    "print('Training Set Score: ', training_score)\n",
    "print('Macro F1 Score: ', f1_score(y_test, y_pred, average = 'macro'))\n",
    "print('Weighted F1 Score: ', f1_score(y_test, y_pred, average = 'weighted'))\n",
    "print('Micro F1 Score: ', f1_score(y_test, y_pred, average = 'micro'))"
   ]
  },
  {
   "cell_type": "code",
   "execution_count": null,
   "id": "75fef62a",
   "metadata": {},
   "outputs": [],
   "source": [
    "# fpr, tpr, thresholds = roc_curve(y_test, y_pred_prob)\n",
    "y_pred_prob = base_knn.predict_proba(X_test)[:,1]\n",
    "fpr, tpr, thresholds = roc_curve(y_test, y_pred_prob)\n",
    "auc = roc_auc_score(y_test, y_pred_prob)\n",
    "plt.figure(figsize=(10,6))\n",
    "plt.plot(fpr, tpr)\n",
    "plt.xlabel('False Positive Rate')\n",
    "plt.ylabel('True Positive Rate')\n",
    "plt.title('ROC')\n",
    "plt.savefig('roc_best_random.png', bbox_inches = 'tight')\n",
    "plt.show()\n",
    "print('Area Under Curve: ',auc)"
   ]
  },
  {
   "cell_type": "code",
   "execution_count": null,
   "id": "a72a398c",
   "metadata": {},
   "outputs": [],
   "source": [
    "print(classification_report(y_test, y_pred))"
   ]
  },
  {
   "cell_type": "markdown",
   "id": "46d19e72",
   "metadata": {},
   "source": [
    "Using Scaled Dataset"
   ]
  },
  {
   "cell_type": "code",
   "execution_count": null,
   "id": "c574c686",
   "metadata": {},
   "outputs": [],
   "source": [
    "rs_scaled_knn = KNeighborsClassifier()\n",
    "rs_scaled_knn.fit(X_rs_train, y_rs_train)\n",
    "y_pred = rs_scaled_knn.predict(X_test)\n",
    "training_score = rs_scaled_knn.fit(X_rs_train, y_rs_train).score(X_rs_train, y_rs_train)\n",
    "print('Accuracy Score: ', accuracy_score(y_test, y_pred))\n",
    "print('Training Set Score: ', training_score)\n",
    "print('Macro F1 Score: ', f1_score(y_test, y_pred, average = 'macro'))\n",
    "print('Weighted F1 Score: ', f1_score(y_test, y_pred, average = 'weighted'))"
   ]
  },
  {
   "cell_type": "markdown",
   "id": "604b7e68",
   "metadata": {},
   "source": [
    "references: https://iopscience.iop.org/article/10.1088/1757-899X/719/1/012072/pdf"
   ]
  },
  {
   "cell_type": "markdown",
   "id": "ff9e7e51",
   "metadata": {},
   "source": [
    "## Random Forest"
   ]
  },
  {
   "cell_type": "code",
   "execution_count": null,
   "id": "7890a23a",
   "metadata": {},
   "outputs": [],
   "source": [
    "base_rfc = RandomForestClassifier(random_state=10)\n",
    "base_rfc.fit(X_train, y_train)\n",
    "y_pred = base_rfc.predict(X_test)\n",
    "training_score = base_rfc.fit(X_train, y_train).score(X_train, y_train)\n",
    "print('Accuracy Score: ', accuracy_score(y_test, y_pred))\n",
    "print('Training Set Score: ', training_score)\n",
    "print('Macro F1 Score: ', f1_score(y_test, y_pred, average = 'macro'))\n",
    "print('Weighted F1 Score: ', f1_score(y_test, y_pred, average = 'weighted'))"
   ]
  },
  {
   "cell_type": "code",
   "execution_count": null,
   "id": "420380da",
   "metadata": {},
   "outputs": [],
   "source": [
    "# fpr, tpr, thresholds = roc_curve(y_test, y_pred_prob)\n",
    "y_pred_prob = base_rfc.predict_proba(X_test)[:,1]\n",
    "fpr, tpr, thresholds = roc_curve(y_test, y_pred_prob)\n",
    "auc = roc_auc_score(y_test, y_pred_prob)\n",
    "plt.figure(figsize=(10,6))\n",
    "plt.plot(fpr, tpr)\n",
    "plt.xlabel('False Positive Rate')\n",
    "plt.ylabel('True Positive Rate')\n",
    "plt.title('ROC')\n",
    "plt.savefig('roc_best_random.png', bbox_inches = 'tight')\n",
    "plt.show()\n",
    "print('Area Under Curve: ',auc)"
   ]
  },
  {
   "cell_type": "code",
   "execution_count": null,
   "id": "67a25c01",
   "metadata": {},
   "outputs": [],
   "source": [
    "sorted_importances = base_rfc.feature_importances_.argsort()\n",
    "_ = plt.figure(figsize=(15,10))\n",
    "_ = plt.barh(X.columns[sorted_importances], base_rfc.feature_importances_[sorted_importances])\n",
    "_ = plt.title('Feature Importance')\n",
    "_ = plt.savefig('feature_imp_grid.png', bbox_inches='tight')\n",
    "plt.show()"
   ]
  },
  {
   "cell_type": "markdown",
   "id": "683db57b",
   "metadata": {},
   "source": [
    "## AdaBoosting "
   ]
  },
  {
   "cell_type": "code",
   "execution_count": null,
   "id": "cf59481f",
   "metadata": {},
   "outputs": [],
   "source": [
    "base_estimator = DecisionTreeClassifier(random_state=10)\n",
    "base_adaboost = AdaBoostClassifier(base_estimator = base_estimator)\n",
    "base_adaboost.fit(X_train, y_train)\n",
    "y_pred = base_adaboost.predict(X_test)\n",
    "training_score = base_adaboost.fit(X_train, y_train).score(X_train, y_train)\n",
    "print('Accuracy Score: ', accuracy_score(y_test, y_pred))\n",
    "print('Training Set Score: ', training_score)\n",
    "print('Macro F1 Score: ', f1_score(y_test, y_pred, average = 'macro'))\n",
    "print('Weighted F1 Score: ', f1_score(y_test, y_pred, average = 'weighted'))\n",
    "# fpr, tpr, thresholds = roc_curve(y_test, y_pred_prob)\n",
    "y_pred_prob = base_adaboost.predict_proba(X_test)[:,1]\n",
    "fpr, tpr, thresholds = roc_curve(y_test, y_pred_prob)\n",
    "auc = roc_auc_score(y_test, y_pred_prob)\n",
    "plt.figure(figsize=(10,6))\n",
    "plt.plot(fpr, tpr)\n",
    "plt.xlabel('False Positive Rate')\n",
    "plt.ylabel('True Positive Rate')\n",
    "plt.title('ROC')\n",
    "plt.savefig('roc_best_random.png', bbox_inches = 'tight')\n",
    "plt.show()\n",
    "print('Area Under Curve: ',auc)\n",
    "sorted_importances = base_adaboost.feature_importances_.argsort()\n",
    "_ = plt.figure(figsize=(15,10))\n",
    "_ = plt.barh(X.columns[sorted_importances], base_adaboost.feature_importances_[sorted_importances])\n",
    "_ = plt.title('Feature Importance')\n",
    "_ = plt.savefig('feature_imp_grid.png', bbox_inches='tight')\n",
    "plt.show()"
   ]
  },
  {
   "cell_type": "markdown",
   "id": "e317c340",
   "metadata": {},
   "source": [
    "## CatBoost"
   ]
  },
  {
   "cell_type": "code",
   "execution_count": null,
   "id": "d81d6b1d",
   "metadata": {},
   "outputs": [],
   "source": [
    "base_cb = CatBoostClassifier(random_state=10)\n",
    "base_cb.fit(X_train, y_train)\n",
    "y_pred = base_cb.predict(X_test)\n",
    "training_score = base_cb.fit(X_train, y_train).score(X_train, y_train)\n",
    "print('Accuracy Score: ', accuracy_score(y_test, y_pred))\n",
    "print('Training Set Score: ', training_score)\n",
    "print('Macro F1 Score: ', f1_score(y_test, y_pred, average = 'macro'))\n",
    "print('Weighted F1 Score: ', f1_score(y_test, y_pred, average = 'weighted'))"
   ]
  },
  {
   "cell_type": "code",
   "execution_count": null,
   "id": "3270f626",
   "metadata": {
    "scrolled": true
   },
   "outputs": [],
   "source": [
    "# fpr, tpr, thresholds = roc_curve(y_test, y_pred_prob)\n",
    "y_pred_prob = base_cb.predict_proba(X_test)[:,1]\n",
    "fpr, tpr, thresholds = roc_curve(y_test, y_pred_prob)\n",
    "auc = roc_auc_score(y_test, y_pred_prob)\n",
    "plt.figure(figsize=(10,6))\n",
    "plt.plot(fpr, tpr)\n",
    "plt.xlabel('False Positive Rate')\n",
    "plt.ylabel('True Positive Rate')\n",
    "plt.title('ROC')\n",
    "plt.savefig('roc_best_random.png', bbox_inches = 'tight')\n",
    "plt.show()\n",
    "print('Area Under Curve: ',auc)"
   ]
  },
  {
   "cell_type": "code",
   "execution_count": null,
   "id": "d1c84231",
   "metadata": {},
   "outputs": [],
   "source": [
    "sorted_importances = base_cb.feature_importances_.argsort()\n",
    "_ = plt.figure(figsize=(15,10))\n",
    "_ = plt.barh(X.columns[sorted_importances], base_cb.feature_importances_[sorted_importances])\n",
    "_ = plt.title('Feature Importance')\n",
    "_ = plt.savefig('feature_imp_grid.png', bbox_inches='tight')\n",
    "plt.show()"
   ]
  },
  {
   "cell_type": "markdown",
   "id": "0081c09b",
   "metadata": {},
   "source": [
    "## HistGradBoost"
   ]
  },
  {
   "cell_type": "code",
   "execution_count": null,
   "id": "0bf1dfa4",
   "metadata": {},
   "outputs": [],
   "source": [
    "base_histgradboost = HistGradientBoostingClassifier(random_state=10)\n",
    "base_histgradboost.fit(X_train, y_train)\n",
    "y_pred = base_histgradboost.predict(X_test)\n",
    "training_score = base_histgradboost.fit(X_train, y_train).score(X_train, y_train)\n",
    "print('Accuracy Score: ', accuracy_score(y_test, y_pred))\n",
    "print('Training Set Score: ', training_score)\n",
    "print('Macro F1 Score: ', f1_score(y_test, y_pred, average = 'macro'))\n",
    "print('Weighted F1 Score: ', f1_score(y_test, y_pred, average = 'weighted'))"
   ]
  },
  {
   "cell_type": "code",
   "execution_count": null,
   "id": "05054eb4",
   "metadata": {},
   "outputs": [],
   "source": [
    "y_pred_prob = base_histgradboost.predict_proba(X_test)[:,1]\n",
    "fpr, tpr, thresholds = roc_curve(y_test, y_pred_prob)\n",
    "auc = roc_auc_score(y_test, y_pred_prob)\n",
    "plt.figure(figsize=(10,6))\n",
    "plt.plot(fpr, tpr)\n",
    "plt.xlabel('False Positive Rate')\n",
    "plt.ylabel('True Positive Rate')\n",
    "plt.title('ROC')\n",
    "plt.savefig('roc_best_random.png', bbox_inches = 'tight')\n",
    "plt.show()\n",
    "print('Area Under Curve: ',auc)"
   ]
  },
  {
   "cell_type": "markdown",
   "id": "966c5087",
   "metadata": {},
   "source": [
    "## LightGBM "
   ]
  },
  {
   "cell_type": "code",
   "execution_count": null,
   "id": "1ffa531e",
   "metadata": {},
   "outputs": [],
   "source": [
    "base_lgbm = LGBMClassifier(random_state=10)\n",
    "base_lgbm.fit(X_train, y_train)\n",
    "y_pred = base_lgbm.predict(X_test)\n",
    "training_score = base_lgbm.fit(X_train, y_train).score(X_train, y_train)\n",
    "print('Accuracy Score: ', accuracy_score(y_test, y_pred))\n",
    "print('Training Set Score: ', training_score)\n",
    "print('Macro F1 Score: ', f1_score(y_test, y_pred, average = 'macro'))\n",
    "print('Weighted F1 Score: ', f1_score(y_test, y_pred, average = 'weighted'))\n",
    "y_pred_prob = base_lgbm.predict_proba(X_test)[:,1]\n",
    "fpr, tpr, thresholds = roc_curve(y_test, y_pred_prob)\n",
    "auc = roc_auc_score(y_test, y_pred_prob)\n",
    "plt.figure(figsize=(10,6))\n",
    "plt.plot(fpr, tpr)\n",
    "plt.xlabel('False Positive Rate')\n",
    "plt.ylabel('True Positive Rate')\n",
    "plt.title('ROC')\n",
    "plt.savefig('roc_best_random.png', bbox_inches = 'tight')\n",
    "plt.show()\n",
    "print('Area Under Curve: ',auc)\n",
    "sorted_importances = base_lgbm.feature_importances_.argsort()\n",
    "_ = plt.figure(figsize=(15,10))\n",
    "_ = plt.barh(X.columns[sorted_importances], base_lgbm.feature_importances_[sorted_importances])\n",
    "_ = plt.title('Feature Importance')\n",
    "_ = plt.savefig('feature_imp_grid.png', bbox_inches='tight')\n",
    "plt.show()"
   ]
  },
  {
   "cell_type": "markdown",
   "id": "6ae4b59d",
   "metadata": {},
   "source": [
    "References: \n",
    "https://machinelearningmastery.com/gradient-boosting-with-scikit-learn-xgboost-lightgbm-and-catboost/\n",
    "https://towardsdatascience.com/boosting-showdown-scikit-learn-vs-xgboost-vs-lightgbm-vs-catboost-in-sentiment-classification-f7c7f46fd956\n",
    "https://www.projectpro.io/recipes/use-catboost-classifier-and-regressor-in-python\n",
    "https://www.kaggle.com/code/prashant111/catboost-classifier-in-python\n"
   ]
  },
  {
   "cell_type": "markdown",
   "id": "53757bd4",
   "metadata": {},
   "source": [
    "# Sampling Methods\n",
    "\n",
    "RandomOverSampler VS SMOTE\n",
    "\n",
    "## SMOTE"
   ]
  },
  {
   "cell_type": "code",
   "execution_count": null,
   "id": "3e0216fe",
   "metadata": {},
   "outputs": [],
   "source": [
    "from imblearn.over_sampling import SMOTE\n",
    "from collections import Counter"
   ]
  },
  {
   "cell_type": "code",
   "execution_count": null,
   "id": "6f3b3e70",
   "metadata": {},
   "outputs": [],
   "source": [
    "smt = SMOTE()"
   ]
  },
  {
   "cell_type": "code",
   "execution_count": null,
   "id": "d424717d",
   "metadata": {},
   "outputs": [],
   "source": [
    "X_train_sm, y_train_sm = smt.fit_resample(X_train, y_train)"
   ]
  },
  {
   "cell_type": "code",
   "execution_count": null,
   "id": "80efb53c",
   "metadata": {},
   "outputs": [],
   "source": [
    "counter = Counter(y_train)\n",
    "print(counter)"
   ]
  },
  {
   "cell_type": "code",
   "execution_count": null,
   "id": "88219eb9",
   "metadata": {},
   "outputs": [],
   "source": [
    "counter = Counter(y_train_sm)\n",
    "print(counter)"
   ]
  },
  {
   "cell_type": "markdown",
   "id": "006cea52",
   "metadata": {},
   "source": [
    "### KNN"
   ]
  },
  {
   "cell_type": "code",
   "execution_count": null,
   "id": "580e4029",
   "metadata": {},
   "outputs": [],
   "source": [
    "sm_knn = KNeighborsClassifier()\n",
    "sm_knn.fit(X_train_sm, y_train_sm)\n",
    "y_pred = sm_knn.predict(X_test)\n",
    "training_score = sm_knn.fit(X_train_sm, y_train_sm).score(X_train_sm, y_train_sm)\n",
    "print('Accuracy Score: ', accuracy_score(y_test, y_pred))\n",
    "print('Training Set Score: ', training_score)\n",
    "print('Macro F1 Score: ', f1_score(y_test, y_pred, average = 'macro'))\n",
    "print('Weighted F1 Score: ', f1_score(y_test, y_pred, average = 'weighted'))\n",
    "# fpr, tpr, thresholds = roc_curve(y_test, y_pred_prob)\n",
    "y_pred_prob = sm_knn.predict_proba(X_test)[:,1]\n",
    "fpr, tpr, thresholds = roc_curve(y_test, y_pred_prob)\n",
    "auc = roc_auc_score(y_test, y_pred_prob)\n",
    "plt.figure(figsize=(10,6))\n",
    "plt.plot(fpr, tpr)\n",
    "plt.xlabel('False Positive Rate')\n",
    "plt.ylabel('True Positive Rate')\n",
    "plt.title('ROC')\n",
    "plt.savefig('roc_best_random.png', bbox_inches = 'tight')\n",
    "plt.show()\n",
    "print('Area Under Curve: ',auc)"
   ]
  },
  {
   "cell_type": "markdown",
   "id": "fb1b8361",
   "metadata": {},
   "source": [
    "### Random Forest Classifier "
   ]
  },
  {
   "cell_type": "code",
   "execution_count": null,
   "id": "6914104b",
   "metadata": {},
   "outputs": [],
   "source": [
    "sm_rfc = RandomForestClassifier(random_state=10)\n",
    "sm_rfc.fit(X_train_sm, y_train_sm)\n",
    "y_pred = base_rfc.predict(X_test)\n",
    "training_score = base_rfc.fit(X_train_sm, y_train_sm).score(X_train_sm, y_train_sm)\n",
    "print('Accuracy Score: ', accuracy_score(y_test, y_pred))\n",
    "print('Training Set Score: ', training_score)\n",
    "print('Macro F1 Score: ', f1_score(y_test, y_pred, average = 'macro'))\n",
    "print('Weighted F1 Score: ', f1_score(y_test, y_pred, average = 'weighted'))\n",
    "# fpr, tpr, thresholds = roc_curve(y_test, y_pred_prob)\n",
    "y_pred_prob = sm_rfc.predict_proba(X_test)[:,1]\n",
    "fpr, tpr, thresholds = roc_curve(y_test, y_pred_prob)\n",
    "auc = roc_auc_score(y_test, y_pred_prob)\n",
    "plt.figure(figsize=(10,6))\n",
    "plt.plot(fpr, tpr)\n",
    "plt.xlabel('False Positive Rate')\n",
    "plt.ylabel('True Positive Rate')\n",
    "plt.title('ROC')\n",
    "plt.savefig('roc_best_random.png', bbox_inches = 'tight')\n",
    "plt.show()\n",
    "print('Area Under Curve: ',auc)\n",
    "sorted_importances = sm_rfc.feature_importances_.argsort()\n",
    "_ = plt.figure(figsize=(15,10))\n",
    "_ = plt.barh(X.columns[sorted_importances], sm_rfc.feature_importances_[sorted_importances])\n",
    "_ = plt.axvline(x=0.10)\n",
    "_ = plt.title('Feature Importance')\n",
    "_ = plt.savefig('feature_imp_grid.png', bbox_inches='tight')\n",
    "plt.show()"
   ]
  },
  {
   "cell_type": "code",
   "execution_count": null,
   "id": "ae78d3cb",
   "metadata": {},
   "outputs": [],
   "source": []
  },
  {
   "cell_type": "markdown",
   "id": "1455044d",
   "metadata": {},
   "source": [
    "### ADABoost"
   ]
  },
  {
   "cell_type": "code",
   "execution_count": null,
   "id": "c02ec4a0",
   "metadata": {},
   "outputs": [],
   "source": [
    "base_estimator = DecisionTreeClassifier(random_state=10)\n",
    "sm_adaboost = AdaBoostClassifier(base_estimator = base_estimator)\n",
    "sm_adaboost.fit(X_train_sm, y_train_sm)\n",
    "y_pred = sm_adaboost.predict(X_test)\n",
    "training_score = base_adaboost.fit(X_train_sm, y_train_sm).score(X_train_sm, y_train_sm)\n",
    "print('Accuracy Score: ', accuracy_score(y_test, y_pred))\n",
    "print('Training Set Score: ', training_score)\n",
    "print('Macro F1 Score: ', f1_score(y_test, y_pred, average = 'macro'))\n",
    "print('Weighted F1 Score: ', f1_score(y_test, y_pred, average = 'weighted'))\n",
    "# fpr, tpr, thresholds = roc_curve(y_test, y_pred_prob)\n",
    "y_pred_prob = sm_adaboost.predict_proba(X_test)[:,1]\n",
    "fpr, tpr, thresholds = roc_curve(y_test, y_pred_prob)\n",
    "auc = roc_auc_score(y_test, y_pred_prob)\n",
    "plt.figure(figsize=(10,6))\n",
    "plt.plot(fpr, tpr)\n",
    "plt.xlabel('False Positive Rate')\n",
    "plt.ylabel('True Positive Rate')\n",
    "plt.title('ROC')\n",
    "plt.savefig('roc_best_random.png', bbox_inches = 'tight')\n",
    "plt.show()\n",
    "print('Area Under Curve: ',auc)\n",
    "sorted_importances = sm_adaboost.feature_importances_.argsort()\n",
    "_ = plt.figure(figsize=(15,10))\n",
    "_ = plt.barh(X.columns[sorted_importances], sm_adaboost.feature_importances_[sorted_importances])\n",
    "_ = plt.title('Feature Importance')\n",
    "_ = plt.axvline(x=0.10)\n",
    "_ = plt.savefig('feature_imp_grid.png', bbox_inches='tight')\n",
    "plt.show()"
   ]
  },
  {
   "cell_type": "markdown",
   "id": "a689e441",
   "metadata": {},
   "source": [
    "## CatBoost"
   ]
  },
  {
   "cell_type": "code",
   "execution_count": null,
   "id": "7fda3ba0",
   "metadata": {},
   "outputs": [],
   "source": [
    "sm_cb = CatBoostClassifier(random_state=10)\n",
    "sm_cb.fit(X_train_sm, y_train_sm)\n",
    "y_pred = sm_cb.predict(X_test)\n",
    "training_score = sm_cb.fit(X_train_sm, y_train_sm).score(X_train_sm, y_train_sm)\n",
    "print('Accuracy Score: ', accuracy_score(y_test, y_pred))\n",
    "print('Training Set Score: ', training_score)\n",
    "print('Macro F1 Score: ', f1_score(y_test, y_pred, average = 'macro'))\n",
    "print('Weighted F1 Score: ', f1_score(y_test, y_pred, average = 'weighted'))\n",
    "# fpr, tpr, thresholds = roc_curve(y_test, y_pred_prob)\n",
    "y_pred_prob = sm_cb.predict_proba(X_test)[:,1]\n",
    "fpr, tpr, thresholds = roc_curve(y_test, y_pred_prob)\n",
    "auc = roc_auc_score(y_test, y_pred_prob)\n",
    "plt.figure(figsize=(10,6))\n",
    "plt.plot(fpr, tpr)\n",
    "plt.xlabel('False Positive Rate')\n",
    "plt.ylabel('True Positive Rate')\n",
    "plt.title('ROC')\n",
    "plt.savefig('roc_best_random.png', bbox_inches = 'tight')\n",
    "plt.show()\n",
    "print('Area Under Curve: ',auc)\n",
    "sorted_importances = sm_cb.feature_importances_.argsort()\n",
    "_ = plt.figure(figsize=(15,10))\n",
    "_ = plt.barh(X.columns[sorted_importances], sm_cb.feature_importances_[sorted_importances])\n",
    "_ = plt.axvline(x=0.10)\n",
    "_ = plt.title('Feature Importance')\n",
    "_ = plt.savefig('feature_imp_grid.png', bbox_inches='tight')\n",
    "plt.show()"
   ]
  },
  {
   "cell_type": "markdown",
   "id": "1369eeb8",
   "metadata": {},
   "source": [
    "## LightGBM"
   ]
  },
  {
   "cell_type": "code",
   "execution_count": null,
   "id": "b4fd9afb",
   "metadata": {},
   "outputs": [],
   "source": [
    "sm_lgbm = LGBMClassifier(random_state=10)\n",
    "sm_lgbm.fit(X_train_sm, y_train_sm)\n",
    "y_pred = sm_lgbm.predict(X_test)\n",
    "training_score = sm_lgbm.fit(X_train_sm, y_train_sm).score(X_train_sm, y_train_sm)\n",
    "print('Accuracy Score: ', accuracy_score(y_test, y_pred))\n",
    "print('Training Set Score: ', training_score)\n",
    "print('Macro F1 Score: ', f1_score(y_test, y_pred, average = 'macro'))\n",
    "print('Weighted F1 Score: ', f1_score(y_test, y_pred, average = 'weighted'))\n",
    "y_pred_prob = sm_lgbm.predict_proba(X_test)[:,1]\n",
    "fpr, tpr, thresholds = roc_curve(y_test, y_pred_prob)\n",
    "auc = roc_auc_score(y_test, y_pred_prob)\n",
    "plt.figure(figsize=(10,6))\n",
    "plt.plot(fpr, tpr)\n",
    "plt.xlabel('False Positive Rate')\n",
    "plt.ylabel('True Positive Rate')\n",
    "plt.title('ROC')\n",
    "plt.savefig('roc_best_random.png', bbox_inches = 'tight')\n",
    "plt.show()\n",
    "print('Area Under Curve: ',auc)\n",
    "sorted_importances = sm_lgbm.feature_importances_.argsort()\n",
    "_ = plt.figure(figsize=(15,10))\n",
    "_ = plt.barh(X.columns[sorted_importances], sm_lgbm.feature_importances_[sorted_importances])\n",
    "_ = plt.title('Feature Importance')\n",
    "_ = plt.savefig('feature_imp_grid.png', bbox_inches='tight')\n",
    "plt.show()"
   ]
  },
  {
   "cell_type": "markdown",
   "id": "27587ddd",
   "metadata": {},
   "source": [
    "### Hyperparameter Tuning of Best Model\n",
    "The Random Forest Classifier is the best performing model as it has the highest area under the curve and the highest weighted F1 score. \n"
   ]
  },
  {
   "cell_type": "code",
   "execution_count": null,
   "id": "2dd5b8d4",
   "metadata": {},
   "outputs": [],
   "source": [
    "param_grid = {'n_estimators':np.arange(1,50), \n",
    "              'max_depth': np.arange(1,10),\n",
    "             'criterion': ['gini', 'entropy']}\n",
    "grid_rfc = GridSearchCV(RandomForestClassifier(random_state = 10), param_grid, cv=5, scoring = 'accuracy')\n",
    "grid_rfc.fit(X_train, y_train)\n",
    "print('Mean Cross Validation Score:' ,grid_rfc.best_score_)\n",
    "print('Parameters with Highest Cross Validation Score: ',grid_rfc.best_params_)\n",
    "print(\"Random Forest Classifier Model's Best Accuracy: \", grid_rfc.score(X_test,y_test))"
   ]
  },
  {
   "cell_type": "code",
   "execution_count": null,
   "id": "b9460884",
   "metadata": {},
   "outputs": [],
   "source": [
    "sm_rfc = RandomForestClassifier(random_state=10, criterion = 'gini', max_depth = 9, n_estimators = 34)\n",
    "sm_rfc.fit(X_train_sm, y_train_sm)\n",
    "y_pred = base_rfc.predict(X_test)\n",
    "training_score = base_rfc.fit(X_train_sm, y_train_sm).score(X_train_sm, y_train_sm)\n",
    "print('Accuracy Score: ', accuracy_score(y_test, y_pred))\n",
    "print('Training Set Score: ', training_score)\n",
    "print('Macro F1 Score: ', f1_score(y_test, y_pred, average = 'macro'))\n",
    "print('Weighted F1 Score: ', f1_score(y_test, y_pred, average = 'weighted'))\n",
    "# fpr, tpr, thresholds = roc_curve(y_test, y_pred_prob)\n",
    "y_pred_prob = sm_rfc.predict_proba(X_test)[:,1]\n",
    "fpr, tpr, thresholds = roc_curve(y_test, y_pred_prob)\n",
    "auc = roc_auc_score(y_test, y_pred_prob)\n",
    "plt.figure(figsize=(10,6))\n",
    "plt.plot(fpr, tpr)\n",
    "plt.xlabel('False Positive Rate')\n",
    "plt.ylabel('True Positive Rate')\n",
    "plt.title('ROC')\n",
    "plt.savefig('roc_best_random.png', bbox_inches = 'tight')\n",
    "plt.show()\n",
    "print('Area Under Curve: ',auc)\n",
    "sorted_importances = sm_rfc.feature_importances_.argsort()\n",
    "_ = plt.figure(figsize=(15,10))\n",
    "_ = plt.barh(X.columns[sorted_importances], sm_rfc.feature_importances_[sorted_importances])\n",
    "_ = plt.axvline(x=0.10)\n",
    "_ = plt.title('Feature Importance')\n",
    "_ = plt.savefig('feature_imp_grid.png', bbox_inches='tight')\n",
    "plt.show()"
   ]
  },
  {
   "cell_type": "code",
   "execution_count": null,
   "id": "888ec5f4",
   "metadata": {},
   "outputs": [],
   "source": [
    "cf_matrix = confusion_matrix(y_test, y_pred)\n",
    "sns.heatmap(cf_matrix/np.sum(cf_matrix), annot = True)"
   ]
  },
  {
   "cell_type": "markdown",
   "id": "4cdb8568",
   "metadata": {},
   "source": [
    "# Customer Segmentation"
   ]
  },
  {
   "cell_type": "markdown",
   "id": "1ff97029",
   "metadata": {},
   "source": [
    "## KMeans Clustering"
   ]
  },
  {
   "cell_type": "code",
   "execution_count": null,
   "id": "b0c2af81",
   "metadata": {},
   "outputs": [],
   "source": [
    "data.head()\n",
    "features = data.drop('y', axis = 1)\n",
    "target = data['y']\n",
    "\n",
    "X_train, X_test, y_train, y_test = train_test_split(features, target, test_size = 0.2, random_state = 10)"
   ]
  },
  {
   "cell_type": "code",
   "execution_count": null,
   "id": "789e8bbf",
   "metadata": {},
   "outputs": [],
   "source": [
    "scaler = StandardScaler()\n",
    "scaled_X_train = scaler.fit_transform(X_train)"
   ]
  },
  {
   "cell_type": "code",
   "execution_count": null,
   "id": "972bac8c",
   "metadata": {},
   "outputs": [],
   "source": [
    "range_n_clusters = [2, 3, 4, 5, 6, 7, 8, 9, 10, 11, 12, 13]\n",
    "silhouette_avg = []\n",
    "inertia = []\n",
    "for num_clusters in range_n_clusters:\n",
    "    kmeans = KMeans(n_clusters=num_clusters, random_state = 10, init = 'k-means++')\n",
    "    kmeans.fit(scaled_X_train)\n",
    "    cluster_labels = kmeans.labels_\n",
    "    silhouette_avg.append(silhouette_score(scaled_X_train, cluster_labels))\n",
    "    inertia.append(kmeans.inertia_)"
   ]
  },
  {
   "cell_type": "code",
   "execution_count": null,
   "id": "ed32c3cc",
   "metadata": {},
   "outputs": [],
   "source": [
    "fig, axes = plt.subplots(1, 2, figsize=(10,10))\n",
    "sns.lineplot(x=range_n_clusters,y=silhouette_avg, ax = axes[0], marker = 'o')\n",
    "axes[0].set_title('Silhouette analysis For Optimal k')\n",
    "sns.lineplot(x= range_n_clusters, y = inertia, ax= axes[1], marker = 'o')\n",
    "axes[1].set_title('Elbow Method using Inertial for Optimal k')\n",
    "plt.show();"
   ]
  },
  {
   "cell_type": "code",
   "execution_count": null,
   "id": "e592c71d",
   "metadata": {},
   "outputs": [],
   "source": [
    "kmeans2 = KMeans(n_clusters = 2, init = 'k-means++', random_state = 42)\n",
    "kmeans2.fit(scaled_X_train)\n",
    "scaled_X_train_2 = pd.DataFrame(scaled_X_train)\n",
    "scaled_X_train_2.columns = X_train.columns\n",
    "scaled_X_train_2['Segment KMeans'] = kmeans2.labels_\n",
    "scaled_X_train_2['y_true'] = y_train.values"
   ]
  },
  {
   "cell_type": "code",
   "execution_count": null,
   "id": "4f9d4c42",
   "metadata": {},
   "outputs": [],
   "source": [
    "scaled_X_train_2['Segment KMeans'].value_counts()/len(scaled_X_train)*100"
   ]
  },
  {
   "cell_type": "code",
   "execution_count": null,
   "id": "43dd0a3a",
   "metadata": {},
   "outputs": [],
   "source": [
    "scaled_X_train_2['y_true'].value_counts()/len(scaled_X_train)*100"
   ]
  },
  {
   "cell_type": "code",
   "execution_count": null,
   "id": "8bd5c943",
   "metadata": {},
   "outputs": [],
   "source": [
    "accuracy_score(scaled_X_train_2['y_true'], scaled_X_train_2['Segment KMeans'])"
   ]
  },
  {
   "cell_type": "code",
   "execution_count": null,
   "id": "5d3879ba",
   "metadata": {},
   "outputs": [],
   "source": [
    "fig, ax\n",
    "sns.countplot(x = 'y_true', data = scaled_X_train_2)"
   ]
  },
  {
   "cell_type": "code",
   "execution_count": null,
   "id": "3a0d75eb",
   "metadata": {},
   "outputs": [],
   "source": [
    "scaled_X_train_2.head(2)"
   ]
  },
  {
   "cell_type": "code",
   "execution_count": null,
   "id": "aa32b585",
   "metadata": {},
   "outputs": [],
   "source": [
    "kmeans2_results = pd.DataFrame(y_test)\n",
    "kmeans2_results['y_pred'] = kmeans2.predict(X_test)"
   ]
  },
  {
   "cell_type": "code",
   "execution_count": null,
   "id": "f02617bd",
   "metadata": {},
   "outputs": [],
   "source": [
    "sns.countplot(x = kmeans2_results['y'])\n",
    "plt.title('True Y (testing set)')\n",
    "plt.show();"
   ]
  },
  {
   "cell_type": "code",
   "execution_count": null,
   "id": "b45dd310",
   "metadata": {},
   "outputs": [],
   "source": [
    "sns.countplot(x = kmeans2_results['y_pred'])\n",
    "plt.title('KMeans with 2 clusters predictions(testing set)')\n",
    "plt.show();"
   ]
  },
  {
   "cell_type": "markdown",
   "id": "bd81ddc9",
   "metadata": {},
   "source": [
    "### 4 Clusters"
   ]
  },
  {
   "cell_type": "code",
   "execution_count": null,
   "id": "74ffaa18",
   "metadata": {},
   "outputs": [],
   "source": [
    "kmeans4 = KMeans(n_clusters = 4, init = 'k-means++', random_state = 42)\n",
    "kmeans4.fit(scaled_X_train)\n",
    "scaled_X_train4 = pd.DataFrame(scaled_X_train)\n",
    "scaled_X_train4.columns = X_train.columns\n",
    "scaled_X_train4['Segment KMeans'] = kmeans4.labels_\n",
    "scaled_X_train4['y_true'] = y_train.values"
   ]
  },
  {
   "cell_type": "code",
   "execution_count": null,
   "id": "6270d4de",
   "metadata": {},
   "outputs": [],
   "source": [
    "scaled_X_train4['Segment KMeans'].value_counts()/len(scaled_X_train)*100"
   ]
  },
  {
   "cell_type": "code",
   "execution_count": null,
   "id": "fc000ef6",
   "metadata": {},
   "outputs": [],
   "source": [
    "scaled_X_train4['y_true'].value_counts()/len(scaled_X_train)*100"
   ]
  },
  {
   "cell_type": "code",
   "execution_count": null,
   "id": "021c8568",
   "metadata": {},
   "outputs": [],
   "source": [
    "accuracy_score(scaled_X_train4['y_true'], scaled_X_train4['Segment KMeans'])"
   ]
  },
  {
   "cell_type": "code",
   "execution_count": null,
   "id": "9234e071",
   "metadata": {},
   "outputs": [],
   "source": [
    "scaled_X_train4.head()"
   ]
  },
  {
   "cell_type": "markdown",
   "id": "e047d74b",
   "metadata": {},
   "source": [
    "## PCA and Kmeans Clustering Analysis"
   ]
  },
  {
   "cell_type": "code",
   "execution_count": null,
   "id": "107da3b1",
   "metadata": {},
   "outputs": [],
   "source": [
    "data.head()"
   ]
  },
  {
   "cell_type": "code",
   "execution_count": null,
   "id": "6f8a11a0",
   "metadata": {},
   "outputs": [],
   "source": [
    "features = data.drop('y', axis = 1)\n",
    "target = data['y']\n",
    "\n",
    "X_train, X_test, y_train, y_test = train_test_split(features, target, test_size = 0.2, random_state = 10)"
   ]
  },
  {
   "cell_type": "code",
   "execution_count": null,
   "id": "32a1d426",
   "metadata": {},
   "outputs": [],
   "source": [
    "X_train"
   ]
  },
  {
   "cell_type": "code",
   "execution_count": null,
   "id": "1c85fc4c",
   "metadata": {},
   "outputs": [],
   "source": [
    "scaler = StandardScaler()\n",
    "scaled_X_train = scaler.fit_transform(X_train)\n",
    "pca = PCA()\n",
    "pca.fit(scaled_X_train)\n",
    "plt.figure(figsize=(10,8))\n",
    "plt.plot(range(1,14), pca.explained_variance_ratio_.cumsum(), marker = 'x')\n",
    "plt.xlabel('Number of Components')\n",
    "plt.ylabel('Explained Variance Ratio')\n",
    "plt.show();"
   ]
  },
  {
   "cell_type": "markdown",
   "id": "89da1116",
   "metadata": {},
   "source": [
    "Not abundantly clear how many clusters we should go with. I know from the feature importances extracted that we are looking for around 3 or 4 clusters. "
   ]
  },
  {
   "cell_type": "code",
   "execution_count": null,
   "id": "42560037",
   "metadata": {},
   "outputs": [],
   "source": [
    "features_pca = range(pca.n_components_)\n",
    "plt.bar(features_pca, pca.explained_variance_)\n",
    "plt.xticks(features_pca)\n",
    "plt.ylabel('Variance')\n",
    "plt.xlabel('Number of Components')\n",
    "plt.axhline(0.8)\n",
    "plt.show()"
   ]
  },
  {
   "cell_type": "markdown",
   "id": "af6444b5",
   "metadata": {},
   "source": [
    "Will keep at least 80% variance. \n",
    "\n",
    "### PCA with 2 components"
   ]
  },
  {
   "cell_type": "code",
   "execution_count": null,
   "id": "c3e3d7e2",
   "metadata": {},
   "outputs": [],
   "source": [
    "pca2 = PCA(n_components = 2)\n",
    "pca2.fit(scaled_X_train)\n",
    "transformed2 = pca2.transform(scaled_X_train)\n",
    "print(scaled_X_train.shape)\n",
    "print(transformed2.shape)\n",
    "trans_df2 = pd.DataFrame(transformed2)\n",
    "plt.figure(figsize=(10,6))\n",
    "sns.scatterplot(x= trans_df2[0], y= trans_df2[1], hue = y_train)\n",
    "plt.show()"
   ]
  },
  {
   "cell_type": "code",
   "execution_count": null,
   "id": "6a8c9b2a",
   "metadata": {},
   "outputs": [],
   "source": [
    "pca3 = PCA(n_components = 3)\n",
    "pca3.fit(scaled_X_train)\n",
    "transformed3 = pca3.transform(scaled_X_train)\n",
    "print(scaled_X_train.shape)\n",
    "print(transformed3.shape)\n",
    "trans_df3 = pd.DataFrame(transformed3)\n",
    "fig, axes = plt.subplots(nrows=2,ncols=2, figsize = (12, 8))\n",
    "sns.scatterplot(x= trans_df3[0], y= trans_df3[1], hue = y_train, ax = axes[0,0])\n",
    "sns.scatterplot(x= trans_df3[0], y= trans_df3[2], hue = y_train, ax = axes[0,1])\n",
    "sns.scatterplot(x= trans_df3[1], y= trans_df3[2], hue = y_train, ax = axes[1,0])\n",
    "axes[-1,-1].axis('off')\n",
    "plt.show();"
   ]
  },
  {
   "cell_type": "markdown",
   "id": "70afa1cf",
   "metadata": {},
   "source": [
    "### PCA with 4 components"
   ]
  },
  {
   "cell_type": "code",
   "execution_count": null,
   "id": "2e15dd7e",
   "metadata": {},
   "outputs": [],
   "source": [
    "pca4 = PCA(n_components = 4)\n",
    "pca4.fit(scaled_X_train)\n",
    "transformed4 = pca4.transform(scaled_X_train)\n",
    "print(scaled_X_train.shape)\n",
    "print(transformed4.shape)\n",
    "trans_df4 = pd.DataFrame(transformed4)\n",
    "fig, axes = plt.subplots(nrows=2,ncols=3, figsize = (12, 8))\n",
    "sns.scatterplot(x= trans_df4[0], y= trans_df4[1], hue = y_train, ax = axes[0,0])\n",
    "sns.scatterplot(x= trans_df4[0], y= trans_df4[2], hue = y_train, ax = axes[0,1])\n",
    "sns.scatterplot(x= trans_df4[0], y= trans_df4[3], hue = y_train, ax = axes[0,2])\n",
    "sns.scatterplot(x= trans_df4[1], y= trans_df4[2], hue = y_train, ax = axes[1,0])\n",
    "sns.scatterplot(x= trans_df4[1], y= trans_df4[3], hue = y_train, ax = axes[1,1])\n",
    "sns.scatterplot(x= trans_df4[2], y= trans_df4[3], hue = y_train, ax = axes[1,2])\n",
    "plt.show();"
   ]
  },
  {
   "cell_type": "markdown",
   "id": "f702b4d5",
   "metadata": {},
   "source": [
    "### PCA with 8 components"
   ]
  },
  {
   "cell_type": "code",
   "execution_count": null,
   "id": "16dafba0",
   "metadata": {},
   "outputs": [],
   "source": [
    "pca8 = PCA(n_components = 8)\n",
    "pca8.fit(scaled_X_train)\n",
    "transformed8 = pca8.transform(scaled_X_train)\n",
    "print(scaled_X_train.shape)\n",
    "print(transformed8.shape)\n",
    "trans_df8 = pd.DataFrame(transformed8)\n",
    "fig, axes = plt.subplots(nrows=2,ncols=3, figsize = (12, 8))\n",
    "sns.scatterplot(x= trans_df8[0], y= trans_df8[1], hue = y_train, ax = axes[0,0])\n",
    "sns.scatterplot(x= trans_df8[0], y= trans_df8[2], hue = y_train, ax = axes[0,1])\n",
    "sns.scatterplot(x= trans_df8[0], y= trans_df8[3], hue = y_train, ax = axes[0,2])\n",
    "sns.scatterplot(x= trans_df8[1], y= trans_df8[2], hue = y_train, ax = axes[1,0])\n",
    "sns.scatterplot(x= trans_df8[1], y= trans_df8[3], hue = y_train, ax = axes[1,1])\n",
    "sns.scatterplot(x= trans_df8[2], y= trans_df8[3], hue = y_train, ax = axes[1,2])\n",
    "plt.show()"
   ]
  },
  {
   "cell_type": "markdown",
   "id": "a51efda7",
   "metadata": {},
   "source": [
    "We don't see any further imporvements from 4 to 8 so I'll go ahead with 4 components"
   ]
  },
  {
   "cell_type": "code",
   "execution_count": null,
   "id": "6b41bba4",
   "metadata": {},
   "outputs": [],
   "source": [
    "scores_pca = transformed4"
   ]
  },
  {
   "cell_type": "code",
   "execution_count": null,
   "id": "0d053832",
   "metadata": {},
   "outputs": [],
   "source": [
    "range_n_clusters = [2, 3, 4, 5, 6, 7, 8, 9, 10, 11, 12, 13]\n",
    "silhouette_avg = []\n",
    "inertia = []\n",
    "for num_clusters in range_n_clusters:\n",
    "    kmeans = KMeans(n_clusters=num_clusters, random_state = 10, init = 'k-means++')\n",
    "    kmeans.fit(scores_pca)\n",
    "    cluster_labels = kmeans.labels_\n",
    "    silhouette_avg.append(silhouette_score(scores_pca, cluster_labels))\n",
    "    inertia.append(kmeans.inertia_)"
   ]
  },
  {
   "cell_type": "code",
   "execution_count": null,
   "id": "6dbcce8b",
   "metadata": {},
   "outputs": [],
   "source": [
    "fig, axes = plt.subplots(1, 2, figsize=(10,10))\n",
    "sns.lineplot(x=range_n_clusters,y=silhouette_avg, ax = axes[0], marker = 'o')\n",
    "axes[0].set_title('Silhouette analysis For Optimal k')\n",
    "sns.lineplot(x= range_n_clusters, y = inertia, ax= axes[1], marker= 'o')\n",
    "axes[1].set_title('Elbow Method using Inertial for Optimal k')\n",
    "plt.show();"
   ]
  },
  {
   "cell_type": "code",
   "execution_count": null,
   "id": "41e1894e",
   "metadata": {},
   "outputs": [],
   "source": [
    "kmeans_pca_4 = KMeans(n_clusters = 4, init = 'k-means++', random_state = 42)\n",
    "kmeans_pca_4.fit(scores_pca)"
   ]
  },
  {
   "cell_type": "code",
   "execution_count": null,
   "id": "7dcac932",
   "metadata": {},
   "outputs": [],
   "source": [
    "scaled_X_train = pd.DataFrame(scaled_X_train)\n",
    "scaled_X_train.columns = X_train.columns"
   ]
  },
  {
   "cell_type": "code",
   "execution_count": null,
   "id": "924facd8",
   "metadata": {},
   "outputs": [],
   "source": [
    "kmeans_pca4_df = pd.concat([scaled_X_train.reset_index(drop=True), pd.DataFrame(scores_pca)], axis = 1)\n",
    "kmeans_pca4_df.columns.values[-4:] = ['Component 1', 'Component 2', 'Component 3', 'Component 4']\n",
    "kmeans_pca4_df['Segment K-means PCA'] = kmeans_pca_4.labels_\n",
    "kmeans_pca4_df['Segment'] = kmeans_pca4_df['Segment K-means PCA'].map({0:'first', 1:'second', 2: 'third', 3: 'fourth'})\n",
    "kmeans_pca4_df['Segment K-means PCA'].value_counts()"
   ]
  },
  {
   "cell_type": "code",
   "execution_count": null,
   "id": "205b9267",
   "metadata": {},
   "outputs": [],
   "source": [
    "kmeans_pca4_df.head(2)"
   ]
  },
  {
   "cell_type": "code",
   "execution_count": null,
   "id": "85422e47",
   "metadata": {},
   "outputs": [],
   "source": [
    "fig, axes = plt.subplots(nrows= 2, ncols = 3, figsize = (15,8))\n",
    "sns.scatterplot(ax = axes[0,0] ,x ='Component 1', y ='Component 2', data = kmeans_pca4_df, hue = kmeans_pca4_df['Segment'], palette = ['g','r','c', 'm'])\n",
    "sns.scatterplot(ax = axes[0,1] ,x ='Component 1', y ='Component 3', data = kmeans_pca4_df, hue = kmeans_pca4_df['Segment'], palette = ['g','r','c', 'm'])\n",
    "sns.scatterplot(ax = axes[0,2] ,x ='Component 1', y ='Component 4', data = kmeans_pca4_df, hue = kmeans_pca4_df['Segment'], palette = ['g','r','c', 'm'])\n",
    "sns.scatterplot(ax = axes[1,0] ,x ='Component 2', y ='Component 3', data = kmeans_pca4_df, hue = kmeans_pca4_df['Segment'], palette = ['g','r','c', 'm'])\n",
    "sns.scatterplot(ax = axes[1,1] ,x ='Component 2', y ='Component 4', data = kmeans_pca4_df, hue = kmeans_pca4_df['Segment'], palette = ['g','r','c', 'm'])\n",
    "sns.scatterplot(ax = axes[1,2] ,x ='Component 3', y ='Component 4', data = kmeans_pca4_df, hue = kmeans_pca4_df['Segment'], palette = ['g','r','c', 'm'])\n",
    "plt.show();"
   ]
  },
  {
   "cell_type": "markdown",
   "id": "9d5ffdcb",
   "metadata": {},
   "source": [
    "reference: https://365datascience.com/tutorials/python-tutorials/pca-k-means/"
   ]
  },
  {
   "cell_type": "code",
   "execution_count": null,
   "id": "110831e9",
   "metadata": {},
   "outputs": [],
   "source": [
    "features_kmeans = X_train.assign(segment = kmeans_pca_4.labels_).groupby(['segment']).mean().round()\n",
    "features_kmeans"
   ]
  },
  {
   "cell_type": "code",
   "execution_count": null,
   "id": "367e0a74",
   "metadata": {},
   "outputs": [],
   "source": [
    "sns.heatmap(features_kmeans.T, cmap = 'YlGnBu')\n",
    "plt.show();"
   ]
  },
  {
   "cell_type": "markdown",
   "id": "2a63a900",
   "metadata": {},
   "source": [
    "Checking with 3 clusters"
   ]
  },
  {
   "cell_type": "code",
   "execution_count": null,
   "id": "a74668d0",
   "metadata": {},
   "outputs": [],
   "source": [
    "kmeans_pca_3 = KMeans(n_clusters = 3, init = 'k-means++', random_state = 42)\n",
    "kmeans_pca_3.fit(scores_pca)\n",
    "scaled_X_train = pd.DataFrame(scaled_X_train)\n",
    "scaled_X_train.columns = X_train.columns"
   ]
  },
  {
   "cell_type": "code",
   "execution_count": null,
   "id": "70265da5",
   "metadata": {},
   "outputs": [],
   "source": [
    "kmeans_pca3_df = pd.concat([scaled_X_train.reset_index(drop=True), pd.DataFrame(scores_pca)], axis = 1)\n",
    "kmeans_pca3_df.columns.values[-3:] = ['Component 1', 'Component 2', 'Component 3']\n",
    "kmeans_pca3_df['Segment K-means PCA'] = kmeans_pca_3.labels_\n",
    "kmeans_pca3_df['Segment'] = kmeans_pca3_df['Segment K-means PCA'].map({0:'first', 1:'second', 2: 'third'})\n",
    "kmeans_pca3_df['Segment K-means PCA'].value_counts()"
   ]
  },
  {
   "cell_type": "code",
   "execution_count": null,
   "id": "e8b5f804",
   "metadata": {},
   "outputs": [],
   "source": [
    "fig, axes = plt.subplots(nrows= 2, ncols = 2, figsize = (15,8))\n",
    "sns.scatterplot(ax = axes[0,0] ,x ='Component 1', y ='Component 2', data = kmeans_pca3_df, hue = kmeans_pca3_df['Segment'], palette = ['g','r','c'])\n",
    "sns.scatterplot(ax = axes[0,1] ,x ='Component 1', y ='Component 3', data = kmeans_pca3_df, hue = kmeans_pca3_df['Segment'], palette = ['g','r','c'])\n",
    "sns.scatterplot(ax = axes[1,0] ,x ='Component 2', y ='Component 3', data = kmeans_pca3_df, hue = kmeans_pca3_df['Segment'], palette = ['g','r','c'])\n",
    "axes[-1,-1].axis('off')\n",
    "plt.show();"
   ]
  },
  {
   "cell_type": "markdown",
   "id": "198c7bef",
   "metadata": {},
   "source": [
    "K Means with 5 clusters as it had the highest sihouette score"
   ]
  },
  {
   "cell_type": "code",
   "execution_count": null,
   "id": "f4205ebc",
   "metadata": {},
   "outputs": [],
   "source": [
    "kmeans5 = KMeans(n_clusters = 5, init = 'k-means++', random_state = 42)\n",
    "kmeans5.fit(scores_pca)"
   ]
  },
  {
   "cell_type": "code",
   "execution_count": null,
   "id": "36ffdad1",
   "metadata": {},
   "outputs": [],
   "source": [
    "scaled_X_train = pd.DataFrame(scaled_X_train)\n",
    "scaled_X_train.columns = X_train.columns"
   ]
  },
  {
   "cell_type": "code",
   "execution_count": null,
   "id": "43fb8449",
   "metadata": {},
   "outputs": [],
   "source": [
    "kmeans_pca5_df = pd.concat([scaled_X_train.reset_index(drop=True), pd.DataFrame(scores_pca)], axis = 1)\n",
    "kmeans_pca5_df.columns.values[-4:] = ['Component 1', 'Component 2', 'Component 3', 'Component 4']\n",
    "kmeans_pca5_df['Segment K-means PCA'] = kmeans5.labels_\n",
    "kmeans_pca5_df['Segment'] = kmeans_pca5_df['Segment K-means PCA'].map({0:'first', 1:'second', 2: 'third', 3: 'fourth', 4: 'fifth'})\n",
    "kmeans_pca5_df['Segment K-means PCA'].value_counts()"
   ]
  },
  {
   "cell_type": "code",
   "execution_count": null,
   "id": "b2c9ff71",
   "metadata": {},
   "outputs": [],
   "source": [
    "kmeans_pca5_df"
   ]
  },
  {
   "cell_type": "code",
   "execution_count": null,
   "id": "0488f72a",
   "metadata": {},
   "outputs": [],
   "source": [
    "fig, axes = plt.subplots(nrows= 2, ncols = 3, figsize = (15,8))\n",
    "sns.scatterplot(ax = axes[0,0] ,x ='Component 1', y ='Component 2', data = kmeans_pca5_df, hue = kmeans_pca5_df['Segment'], palette = ['g','r','c', 'm', 'b'])\n",
    "sns.scatterplot(ax = axes[0,1] ,x ='Component 1', y ='Component 3', data = kmeans_pca5_df, hue = kmeans_pca5_df['Segment'], palette = ['g','r','c', 'm', 'b'])\n",
    "sns.scatterplot(ax = axes[0,2] ,x ='Component 1', y ='Component 4', data = kmeans_pca5_df, hue = kmeans_pca5_df['Segment'], palette = ['g','r','c', 'm', 'b'])\n",
    "sns.scatterplot(ax = axes[1,0] ,x ='Component 2', y ='Component 3', data = kmeans_pca5_df, hue = kmeans_pca5_df['Segment'], palette = ['g','r','c', 'm', 'b'])\n",
    "sns.scatterplot(ax = axes[1,1] ,x ='Component 2', y ='Component 4', data = kmeans_pca5_df, hue = kmeans_pca5_df['Segment'], palette = ['g','r','c', 'm', 'b'])\n",
    "sns.scatterplot(ax = axes[1,2] ,x ='Component 3', y ='Component 4', data = kmeans_pca5_df, hue = kmeans_pca5_df['Segment'], palette = ['g','r','c', 'm', 'b'])\n",
    "plt.show();"
   ]
  },
  {
   "cell_type": "markdown",
   "id": "3f5bdfde",
   "metadata": {},
   "source": [
    "# Conclusion\n",
    "The best performing model here is a Random Forest Classifier which yield an accuracy score 92% after SMOTE analysis was conducted to account for the imbalance in the dataset. It is important to note that whilst the success metrics outlined in aims of the project is accuracy, the weighted f1 score was prioritised due to the imbalance in the dataset. For this model, the weighted f1 score is 92% as well. \n",
    "The Random Forest Classifier, along side other classification algorigthms highlighted the month of last contact, the duration of the last contact, the means of last contact, and the balance as important features in the dataset for the classifcation. This was in line with the results of KMeans clustering with PCA. 3 to 4 clusters look visible. To gain a better idea of the problem, it's worth looking into how many clients signed up for subscriptions who then tried to withdraw their deposits before the maturity time. This alongisde the duration of the contacts can help gain a better understanding of the relationship duration and subscription. Otherwise, it does look like the longer a customer is spoken with the higher the chance of them subscribing for term deposits. October and March have the highest subscription rates and therefore is worth driving more attention to these two months through telephone/cellphone contact. \n"
   ]
  },
  {
   "cell_type": "markdown",
   "id": "30c9bcf7",
   "metadata": {},
   "source": [
    "\n"
   ]
  },
  {
   "cell_type": "markdown",
   "id": "b159e734",
   "metadata": {},
   "source": []
  },
  {
   "cell_type": "markdown",
   "id": "0e12b1ac",
   "metadata": {},
   "source": [
    "pick two or three and do 2D plots; "
   ]
  }
 ],
 "metadata": {
  "kernelspec": {
   "display_name": "Python 3 (ipykernel)",
   "language": "python",
   "name": "python3"
  },
  "language_info": {
   "codemirror_mode": {
    "name": "ipython",
    "version": 3
   },
   "file_extension": ".py",
   "mimetype": "text/x-python",
   "name": "python",
   "nbconvert_exporter": "python",
   "pygments_lexer": "ipython3",
   "version": "3.9.13"
  }
 },
 "nbformat": 4,
 "nbformat_minor": 5
}
